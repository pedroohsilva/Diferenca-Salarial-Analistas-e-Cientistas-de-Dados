{
 "cells": [
  {
   "cell_type": "markdown",
   "id": "e9f2ddc6",
   "metadata": {},
   "source": [
    "## Análise Exploratória do Mercado de Ciência e Análise de Dados - Pedro Silva"
   ]
  },
  {
   "cell_type": "markdown",
   "id": "9030cf8d",
   "metadata": {},
   "source": [
    "### Sobre o Conjunto de Dados:\n",
    "\n",
    "#### work_year\n",
    "Descrição: Ano em que os dados salariais foram registrados.\n",
    "Tipo: Numérico (inteiro).\n",
    "#### job_title\n",
    "Descrição: Título do cargo desempenhado pelo profissional na área de dados.\n",
    "Tipo: Categórico.\n",
    "#### job_category\n",
    "Descrição: Categoria geral à qual o cargo pertence.\n",
    "Tipo: Categórico.\n",
    "#### salary_currency\n",
    "Descrição: Moeda na qual o salário foi originalmente reportado.\n",
    "Tipo: Categórico.\n",
    "#### salary\n",
    "Descrição: Valor do salário bruto anual reportado na moeda original.\n",
    "Tipo: Numérico.\n",
    "#### salary_in_usd\n",
    "Descrição: Valor do salário bruto anual convertido para dólares americanos (USD) para padronização.\n",
    "Tipo: Numérico.\n",
    "#### employee_residence\n",
    "Descrição: País de residência do funcionário.\n",
    "Tipo: Categórico.\n",
    "#### experience_level\n",
    "Descrição: Nível de experiência profissional do colaborador.\n",
    "Tipo: Categórico.\n",
    "Exemplo:\n",
    "EN (Entry-Level) – Iniciante.\n",
    "MI (Mid-Level) – Intermediário.\n",
    "SE (Senior-Level) – Experiente.\n",
    "EX (Executive) – Executivo.\n",
    "#### employment_type\n",
    "Descrição: Tipo de contrato de trabalho.\n",
    "Tipo: Categórico.\n",
    "Exemplo:\n",
    "FT (Full-Time) – Integral.\n",
    "PT (Part-Time) – Parcial.\n",
    "CT (Contract) – Contrato.\n",
    "FL (Freelance) – Freelancer.\n",
    "#### work_setting\n",
    "Descrição: Ambiente de trabalho predominante.\n",
    "Tipo: Categórico.\n",
    "Exemplo:\n",
    "On-Site (Presencial).\n",
    "Remote (Remoto).\n",
    "Hybrid (Híbrido).\n",
    "#### company_location\n",
    "Descrição: País onde a empresa está localizada.\n",
    "Tipo: Categórico.\n",
    "#### company_size\n",
    "Descrição: Tamanho da empresa com base no número de funcionários.\n",
    "Tipo: Categórico.\n",
    "Exemplo:\n",
    "S (Small) – Pequena (1-50 funcionários).\n",
    "M (Medium) – Média (51-250 funcionários).\n",
    "L (Large) – Grande (251 ou mais funcionários).\n",
    "\n",
    "### Conclusão:\n",
    "\n",
    "Com base nessas variáveis, o dataset fornece uma visão abrangente sobre os salários no mercado de ciência e análise de dados, possibilitando análises de padrões salariais, fatores influentes e tendências de contratação."
   ]
  },
  {
   "cell_type": "markdown",
   "id": "639a9e68",
   "metadata": {},
   "source": [
    "### Iniciando Análise Exploratória de Dados:"
   ]
  },
  {
   "cell_type": "code",
   "execution_count": 3,
   "id": "4590c169",
   "metadata": {},
   "outputs": [],
   "source": [
    "# Importação das bibliotecas necessárias\n",
    "import pandas as pd\n",
    "import matplotlib.pyplot as plt\n",
    "import seaborn as sns"
   ]
  },
  {
   "cell_type": "code",
   "execution_count": 4,
   "id": "e83ce433",
   "metadata": {},
   "outputs": [],
   "source": [
    "# Carregando dataframe\n",
    "df = pd.read_csv(\"jobs_in_data.csv\")"
   ]
  },
  {
   "cell_type": "code",
   "execution_count": 34,
   "id": "72df0512",
   "metadata": {},
   "outputs": [],
   "source": [
    "# Formatando saída de dados\n",
    "pd.set_option('display.max_columns', None)\n",
    "pd.set_option('display.max_rows', None)\n",
    "pd.options.display.float_format = '{:.2f}'.format"
   ]
  },
  {
   "cell_type": "markdown",
   "id": "691ef081",
   "metadata": {},
   "source": [
    "### Compreendendo o Conjunto de Dados:"
   ]
  },
  {
   "cell_type": "code",
   "execution_count": 35,
   "id": "b456d607",
   "metadata": {},
   "outputs": [
    {
     "data": {
      "text/html": [
       "<div>\n",
       "<style scoped>\n",
       "    .dataframe tbody tr th:only-of-type {\n",
       "        vertical-align: middle;\n",
       "    }\n",
       "\n",
       "    .dataframe tbody tr th {\n",
       "        vertical-align: top;\n",
       "    }\n",
       "\n",
       "    .dataframe thead th {\n",
       "        text-align: right;\n",
       "    }\n",
       "</style>\n",
       "<table border=\"1\" class=\"dataframe\">\n",
       "  <thead>\n",
       "    <tr style=\"text-align: right;\">\n",
       "      <th></th>\n",
       "      <th>work_year</th>\n",
       "      <th>job_title</th>\n",
       "      <th>job_category</th>\n",
       "      <th>salary_currency</th>\n",
       "      <th>salary</th>\n",
       "      <th>salary_in_usd</th>\n",
       "      <th>employee_residence</th>\n",
       "      <th>experience_level</th>\n",
       "      <th>employment_type</th>\n",
       "      <th>work_setting</th>\n",
       "      <th>company_location</th>\n",
       "      <th>company_size</th>\n",
       "    </tr>\n",
       "  </thead>\n",
       "  <tbody>\n",
       "    <tr>\n",
       "      <th>0</th>\n",
       "      <td>2023</td>\n",
       "      <td>Data DevOps Engineer</td>\n",
       "      <td>Data Engineering</td>\n",
       "      <td>EUR</td>\n",
       "      <td>88000</td>\n",
       "      <td>95012</td>\n",
       "      <td>Germany</td>\n",
       "      <td>Mid-level</td>\n",
       "      <td>Full-time</td>\n",
       "      <td>Hybrid</td>\n",
       "      <td>Germany</td>\n",
       "      <td>L</td>\n",
       "    </tr>\n",
       "    <tr>\n",
       "      <th>1</th>\n",
       "      <td>2023</td>\n",
       "      <td>Data Architect</td>\n",
       "      <td>Data Architecture and Modeling</td>\n",
       "      <td>USD</td>\n",
       "      <td>186000</td>\n",
       "      <td>186000</td>\n",
       "      <td>United States</td>\n",
       "      <td>Senior</td>\n",
       "      <td>Full-time</td>\n",
       "      <td>In-person</td>\n",
       "      <td>United States</td>\n",
       "      <td>M</td>\n",
       "    </tr>\n",
       "    <tr>\n",
       "      <th>2</th>\n",
       "      <td>2023</td>\n",
       "      <td>Data Architect</td>\n",
       "      <td>Data Architecture and Modeling</td>\n",
       "      <td>USD</td>\n",
       "      <td>81800</td>\n",
       "      <td>81800</td>\n",
       "      <td>United States</td>\n",
       "      <td>Senior</td>\n",
       "      <td>Full-time</td>\n",
       "      <td>In-person</td>\n",
       "      <td>United States</td>\n",
       "      <td>M</td>\n",
       "    </tr>\n",
       "    <tr>\n",
       "      <th>3</th>\n",
       "      <td>2023</td>\n",
       "      <td>Data Scientist</td>\n",
       "      <td>Data Science and Research</td>\n",
       "      <td>USD</td>\n",
       "      <td>212000</td>\n",
       "      <td>212000</td>\n",
       "      <td>United States</td>\n",
       "      <td>Senior</td>\n",
       "      <td>Full-time</td>\n",
       "      <td>In-person</td>\n",
       "      <td>United States</td>\n",
       "      <td>M</td>\n",
       "    </tr>\n",
       "    <tr>\n",
       "      <th>4</th>\n",
       "      <td>2023</td>\n",
       "      <td>Data Scientist</td>\n",
       "      <td>Data Science and Research</td>\n",
       "      <td>USD</td>\n",
       "      <td>93300</td>\n",
       "      <td>93300</td>\n",
       "      <td>United States</td>\n",
       "      <td>Senior</td>\n",
       "      <td>Full-time</td>\n",
       "      <td>In-person</td>\n",
       "      <td>United States</td>\n",
       "      <td>M</td>\n",
       "    </tr>\n",
       "  </tbody>\n",
       "</table>\n",
       "</div>"
      ],
      "text/plain": [
       "   work_year             job_title                    job_category  \\\n",
       "0       2023  Data DevOps Engineer                Data Engineering   \n",
       "1       2023        Data Architect  Data Architecture and Modeling   \n",
       "2       2023        Data Architect  Data Architecture and Modeling   \n",
       "3       2023        Data Scientist       Data Science and Research   \n",
       "4       2023        Data Scientist       Data Science and Research   \n",
       "\n",
       "  salary_currency  salary  salary_in_usd employee_residence experience_level  \\\n",
       "0             EUR   88000          95012            Germany        Mid-level   \n",
       "1             USD  186000         186000      United States           Senior   \n",
       "2             USD   81800          81800      United States           Senior   \n",
       "3             USD  212000         212000      United States           Senior   \n",
       "4             USD   93300          93300      United States           Senior   \n",
       "\n",
       "  employment_type work_setting company_location company_size  \n",
       "0       Full-time       Hybrid          Germany            L  \n",
       "1       Full-time    In-person    United States            M  \n",
       "2       Full-time    In-person    United States            M  \n",
       "3       Full-time    In-person    United States            M  \n",
       "4       Full-time    In-person    United States            M  "
      ]
     },
     "execution_count": 35,
     "metadata": {},
     "output_type": "execute_result"
    }
   ],
   "source": [
    "# Visualizando as primeiras 5 linhas do dataset\n",
    "df.head()"
   ]
  },
  {
   "cell_type": "code",
   "execution_count": 5,
   "id": "39718a62",
   "metadata": {},
   "outputs": [
    {
     "data": {
      "text/plain": [
       "(9355, 12)"
      ]
     },
     "execution_count": 5,
     "metadata": {},
     "output_type": "execute_result"
    }
   ],
   "source": [
    "# Analisando as dimensões do arquivo\n",
    "df.shape"
   ]
  },
  {
   "cell_type": "code",
   "execution_count": 6,
   "id": "85c408af",
   "metadata": {},
   "outputs": [
    {
     "name": "stdout",
     "output_type": "stream",
     "text": [
      "<class 'pandas.core.frame.DataFrame'>\n",
      "RangeIndex: 9355 entries, 0 to 9354\n",
      "Data columns (total 12 columns):\n",
      " #   Column              Non-Null Count  Dtype \n",
      "---  ------              --------------  ----- \n",
      " 0   work_year           9355 non-null   int64 \n",
      " 1   job_title           9355 non-null   object\n",
      " 2   job_category        9355 non-null   object\n",
      " 3   salary_currency     9355 non-null   object\n",
      " 4   salary              9355 non-null   int64 \n",
      " 5   salary_in_usd       9355 non-null   int64 \n",
      " 6   employee_residence  9355 non-null   object\n",
      " 7   experience_level    9355 non-null   object\n",
      " 8   employment_type     9355 non-null   object\n",
      " 9   work_setting        9355 non-null   object\n",
      " 10  company_location    9355 non-null   object\n",
      " 11  company_size        9355 non-null   object\n",
      "dtypes: int64(3), object(9)\n",
      "memory usage: 877.2+ KB\n"
     ]
    }
   ],
   "source": [
    "# Verificando informações do arquivo\n",
    "df.info()"
   ]
  },
  {
   "cell_type": "code",
   "execution_count": 7,
   "id": "bdb63ccb",
   "metadata": {},
   "outputs": [
    {
     "data": {
      "text/plain": [
       "work_year             0\n",
       "job_title             0\n",
       "job_category          0\n",
       "salary_currency       0\n",
       "salary                0\n",
       "salary_in_usd         0\n",
       "employee_residence    0\n",
       "experience_level      0\n",
       "employment_type       0\n",
       "work_setting          0\n",
       "company_location      0\n",
       "company_size          0\n",
       "dtype: int64"
      ]
     },
     "execution_count": 7,
     "metadata": {},
     "output_type": "execute_result"
    }
   ],
   "source": [
    "# Verificando valores nulos\n",
    "df.isnull().sum()"
   ]
  },
  {
   "cell_type": "code",
   "execution_count": 38,
   "id": "eecf1d4c",
   "metadata": {},
   "outputs": [
    {
     "name": "stdout",
     "output_type": "stream",
     "text": [
      "work_year : 4\n",
      "job_title : 125\n",
      "job_category : 10\n",
      "salary_currency : 11\n",
      "salary : 1507\n",
      "salary_in_usd : 1786\n",
      "employee_residence : 83\n",
      "experience_level : 4\n",
      "employment_type : 4\n",
      "work_setting : 3\n",
      "company_location : 70\n",
      "company_size : 3\n"
     ]
    }
   ],
   "source": [
    "# Total de valores únicos de cada variável\n",
    "valores_unicos = []\n",
    "for i in df.columns[0:12].tolist():\n",
    "    print(i,':', len(df[i].astype(str).value_counts()))\n",
    "    valores_unicos.append(len(df[i].astype(str).value_counts()))"
   ]
  },
  {
   "cell_type": "markdown",
   "id": "c17fd8a9",
   "metadata": {},
   "source": [
    "### Visualizando Medidas Estatísticas do Conjunto de Dados:"
   ]
  },
  {
   "cell_type": "code",
   "execution_count": 19,
   "id": "c36d5cba",
   "metadata": {},
   "outputs": [
    {
     "data": {
      "text/html": [
       "<div>\n",
       "<style scoped>\n",
       "    .dataframe tbody tr th:only-of-type {\n",
       "        vertical-align: middle;\n",
       "    }\n",
       "\n",
       "    .dataframe tbody tr th {\n",
       "        vertical-align: top;\n",
       "    }\n",
       "\n",
       "    .dataframe thead th {\n",
       "        text-align: right;\n",
       "    }\n",
       "</style>\n",
       "<table border=\"1\" class=\"dataframe\">\n",
       "  <thead>\n",
       "    <tr style=\"text-align: right;\">\n",
       "      <th></th>\n",
       "      <th>work_year</th>\n",
       "      <th>salary</th>\n",
       "      <th>salary_in_usd</th>\n",
       "    </tr>\n",
       "  </thead>\n",
       "  <tbody>\n",
       "    <tr>\n",
       "      <th>count</th>\n",
       "      <td>9355.000000</td>\n",
       "      <td>9355.000000</td>\n",
       "      <td>9355.000000</td>\n",
       "    </tr>\n",
       "    <tr>\n",
       "      <th>mean</th>\n",
       "      <td>2022.760449</td>\n",
       "      <td>149927.981293</td>\n",
       "      <td>150299.495564</td>\n",
       "    </tr>\n",
       "    <tr>\n",
       "      <th>std</th>\n",
       "      <td>0.519470</td>\n",
       "      <td>63608.835387</td>\n",
       "      <td>63177.372024</td>\n",
       "    </tr>\n",
       "    <tr>\n",
       "      <th>min</th>\n",
       "      <td>2020.000000</td>\n",
       "      <td>14000.000000</td>\n",
       "      <td>15000.000000</td>\n",
       "    </tr>\n",
       "    <tr>\n",
       "      <th>25%</th>\n",
       "      <td>2023.000000</td>\n",
       "      <td>105200.000000</td>\n",
       "      <td>105700.000000</td>\n",
       "    </tr>\n",
       "    <tr>\n",
       "      <th>50%</th>\n",
       "      <td>2023.000000</td>\n",
       "      <td>143860.000000</td>\n",
       "      <td>143000.000000</td>\n",
       "    </tr>\n",
       "    <tr>\n",
       "      <th>75%</th>\n",
       "      <td>2023.000000</td>\n",
       "      <td>187000.000000</td>\n",
       "      <td>186723.000000</td>\n",
       "    </tr>\n",
       "    <tr>\n",
       "      <th>max</th>\n",
       "      <td>2023.000000</td>\n",
       "      <td>450000.000000</td>\n",
       "      <td>450000.000000</td>\n",
       "    </tr>\n",
       "  </tbody>\n",
       "</table>\n",
       "</div>"
      ],
      "text/plain": [
       "         work_year         salary  salary_in_usd\n",
       "count  9355.000000    9355.000000    9355.000000\n",
       "mean   2022.760449  149927.981293  150299.495564\n",
       "std       0.519470   63608.835387   63177.372024\n",
       "min    2020.000000   14000.000000   15000.000000\n",
       "25%    2023.000000  105200.000000  105700.000000\n",
       "50%    2023.000000  143860.000000  143000.000000\n",
       "75%    2023.000000  187000.000000  186723.000000\n",
       "max    2023.000000  450000.000000  450000.000000"
      ]
     },
     "execution_count": 19,
     "metadata": {},
     "output_type": "execute_result"
    }
   ],
   "source": [
    "# Visualizando estatísticas do dataset\n",
    "df.describe()"
   ]
  },
  {
   "cell_type": "markdown",
   "id": "3404605d",
   "metadata": {},
   "source": [
    "### Avaliando Variáveis Individualmente:"
   ]
  },
  {
   "cell_type": "code",
   "execution_count": 30,
   "id": "cd42b8b5",
   "metadata": {},
   "outputs": [
    {
     "data": {
      "text/plain": [
       "job_title\n",
       "Data Engineer                           2195\n",
       "Data Scientist                          1989\n",
       "Data Analyst                            1388\n",
       "Machine Learning Engineer                991\n",
       "Applied Scientist                        272\n",
       "                                        ... \n",
       "Manager Data Management                    1\n",
       "Cloud Data Architect                       1\n",
       "Deep Learning Researcher                   1\n",
       "Machine Learning Operations Engineer       1\n",
       "Staff Machine Learning Engineer            1\n",
       "Length: 125, dtype: int64"
      ]
     },
     "execution_count": 30,
     "metadata": {},
     "output_type": "execute_result"
    }
   ],
   "source": [
    "# Total de observações por cargo\n",
    "df.groupby(['job_title']).size().sort_values(ascending=False)"
   ]
  },
  {
   "cell_type": "code",
   "execution_count": 29,
   "id": "83e69e68",
   "metadata": {},
   "outputs": [
    {
     "data": {
      "text/plain": [
       "job_category\n",
       "Data Science and Research         3014\n",
       "Data Engineering                  2260\n",
       "Data Analysis                     1457\n",
       "Machine Learning and AI           1428\n",
       "Leadership and Management          503\n",
       "BI and Visualization               313\n",
       "Data Architecture and Modeling     259\n",
       "Data Management and Strategy        61\n",
       "Data Quality and Operations         55\n",
       "Cloud and Database                   5\n",
       "dtype: int64"
      ]
     },
     "execution_count": 29,
     "metadata": {},
     "output_type": "execute_result"
    }
   ],
   "source": [
    "# Total de observações por categoria de cargo\n",
    "df.groupby(['job_category']).size().sort_values(ascending=False)"
   ]
  },
  {
   "cell_type": "code",
   "execution_count": 33,
   "id": "4808dca0",
   "metadata": {},
   "outputs": [
    {
     "data": {
      "text/plain": [
       "<AxesSubplot:title={'center':'Categoria de Trabalho'}>"
      ]
     },
     "execution_count": 33,
     "metadata": {},
     "output_type": "execute_result"
    },
    {
     "data": {
      "image/png": "[encoded data removed]",
      "text/plain": [
       "<Figure size 640x480 with 1 Axes>"
      ]
     },
     "metadata": {},
     "output_type": "display_data"
    }
   ],
   "source": [
    "# Visualizando através de um gráfico\n",
    "df.job_category.value_counts().plot(kind='bar', title='Categoria de Trabalho', color=['#219ebc', '#023047'])"
   ]
  },
  {
   "cell_type": "code",
   "execution_count": null,
   "id": "6525fac9",
   "metadata": {},
   "outputs": [],
   "source": []
  }
 ],
 "metadata": {
  "kernelspec": {
   "display_name": "Python 3 (ipykernel)",
   "language": "python",
   "name": "python3"
  },
  "language_info": {
   "codemirror_mode": {
    "name": "ipython",
    "version": 3
   },
   "file_extension": ".py",
   "mimetype": "text/x-python",
   "name": "python",
   "nbconvert_exporter": "python",
   "pygments_lexer": "ipython3",
   "version": "3.9.13"
  }
 },
 "nbformat": 4,
 "nbformat_minor": 5
}
