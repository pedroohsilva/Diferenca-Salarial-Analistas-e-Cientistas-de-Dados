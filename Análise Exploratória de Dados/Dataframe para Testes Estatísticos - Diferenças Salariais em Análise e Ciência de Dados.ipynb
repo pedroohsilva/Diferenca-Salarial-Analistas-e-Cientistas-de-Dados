{
 "cells": [
  {
   "cell_type": "markdown",
   "metadata": {
    "application/vnd.databricks.v1+cell": {
     "cellMetadata": {},
     "inputWidgets": {},
     "nuid": "475fe5c6-01e3-439d-b0e4-af74712d57bc",
     "showTitle": false,
     "tableResultSettingsMap": {},
     "title": ""
    }
   },
   "source": [
    "### Construindo um Dataframe para Testes Estatísticos: Diferenças Salariais em Análise e Ciência de Dados\n",
    "\n",
    "Para garantir uma análise mais focada e relevante, utilizei o Databricks para criar um notebook dedicado à construção de um dataframe específico. Por meio de consultas **SQL**, esse dataframe reúne informações de cargos como Analistas e Cientistas de Dados e seus respectivos salários em dólar. Essa abordagem facilita a preparação dos dados e direciona as etapas subsequentes para a realização de **testes estatísticos** com maior precisão e eficiência."
   ]
  },
  {
   "cell_type": "markdown",
   "metadata": {
    "application/vnd.databricks.v1+cell": {
     "cellMetadata": {},
     "inputWidgets": {},
     "nuid": "64cc0fd9-da4f-494b-bca6-f4ce580617af",
     "showTitle": false,
     "tableResultSettingsMap": {},
     "title": ""
    }
   },
   "source": [
    "### Visualizando o Conjunto de Dados:\n",
    "\n",
    "Selecionando as 10 primeiras linhas do dataset para uma visualização inicial dos dados."
   ]
  },
  {
   "cell_type": "code",
   "execution_count": 0,
   "metadata": {
    "application/vnd.databricks.v1+cell": {
     "cellMetadata": {
      "byteLimit": 2048000,
      "implicitDf": true,
      "rowLimit": 10000
     },
     "inputWidgets": {},
     "nuid": "a3f0a4f9-7097-48b6-97c5-8a6a14ed995f",
     "showTitle": false,
     "tableResultSettingsMap": {},
     "title": ""
    }
   },
   "outputs": [
    {
     "output_type": "display_data",
     "data": {
      "text/html": [
       "<style scoped>\n",
       "  .table-result-container {\n",
       "    max-height: 300px;\n",
       "    overflow: auto;\n",
       "  }\n",
       "  table, th, td {\n",
       "    border: 1px solid black;\n",
       "    border-collapse: collapse;\n",
       "  }\n",
       "  th, td {\n",
       "    padding: 5px;\n",
       "  }\n",
       "  th {\n",
       "    text-align: left;\n",
       "  }\n",
       "</style><div class='table-result-container'><table class='table-result'><thead style='background-color: white'><tr><th>work_year</th><th>job_title</th><th>job_category</th><th>salary_currency</th><th>salary</th><th>salary_in_usd</th><th>employee_residence</th><th>experience_level</th><th>employment_type</th><th>work_setting</th><th>company_location</th><th>company_size</th></tr></thead><tbody><tr><td>2023</td><td>Data DevOps Engineer</td><td>Data Engineering</td><td>EUR</td><td>88000</td><td>95012</td><td>Germany</td><td>Mid-level</td><td>Full-time</td><td>Hybrid</td><td>Germany</td><td>L</td></tr><tr><td>2023</td><td>Data Architect</td><td>Data Architecture and Modeling</td><td>USD</td><td>186000</td><td>186000</td><td>United States</td><td>Senior</td><td>Full-time</td><td>In-person</td><td>United States</td><td>M</td></tr><tr><td>2023</td><td>Data Architect</td><td>Data Architecture and Modeling</td><td>USD</td><td>81800</td><td>81800</td><td>United States</td><td>Senior</td><td>Full-time</td><td>In-person</td><td>United States</td><td>M</td></tr><tr><td>2023</td><td>Data Scientist</td><td>Data Science and Research</td><td>USD</td><td>212000</td><td>212000</td><td>United States</td><td>Senior</td><td>Full-time</td><td>In-person</td><td>United States</td><td>M</td></tr><tr><td>2023</td><td>Data Scientist</td><td>Data Science and Research</td><td>USD</td><td>93300</td><td>93300</td><td>United States</td><td>Senior</td><td>Full-time</td><td>In-person</td><td>United States</td><td>M</td></tr><tr><td>2023</td><td>Data Scientist</td><td>Data Science and Research</td><td>USD</td><td>130000</td><td>130000</td><td>United States</td><td>Senior</td><td>Full-time</td><td>Remote</td><td>United States</td><td>M</td></tr><tr><td>2023</td><td>Data Scientist</td><td>Data Science and Research</td><td>USD</td><td>100000</td><td>100000</td><td>United States</td><td>Senior</td><td>Full-time</td><td>Remote</td><td>United States</td><td>M</td></tr><tr><td>2023</td><td>Machine Learning Researcher</td><td>Machine Learning and AI</td><td>USD</td><td>224400</td><td>224400</td><td>United States</td><td>Mid-level</td><td>Full-time</td><td>In-person</td><td>United States</td><td>M</td></tr><tr><td>2023</td><td>Machine Learning Researcher</td><td>Machine Learning and AI</td><td>USD</td><td>138700</td><td>138700</td><td>United States</td><td>Mid-level</td><td>Full-time</td><td>In-person</td><td>United States</td><td>M</td></tr><tr><td>2023</td><td>Data Engineer</td><td>Data Engineering</td><td>USD</td><td>210000</td><td>210000</td><td>United States</td><td>Executive</td><td>Full-time</td><td>Remote</td><td>United States</td><td>M</td></tr></tbody></table></div>"
      ]
     },
     "metadata": {
      "application/vnd.databricks.v1+output": {
       "addedWidgets": {},
       "aggData": [],
       "aggError": "",
       "aggOverflow": false,
       "aggSchema": [],
       "aggSeriesLimitReached": false,
       "aggType": "",
       "arguments": {},
       "columnCustomDisplayInfos": {},
       "data": [
        [
         "2023",
         "Data DevOps Engineer",
         "Data Engineering",
         "EUR",
         "88000",
         "95012",
         "Germany",
         "Mid-level",
         "Full-time",
         "Hybrid",
         "Germany",
         "L"
        ],
        [
         "2023",
         "Data Architect",
         "Data Architecture and Modeling",
         "USD",
         "186000",
         "186000",
         "United States",
         "Senior",
         "Full-time",
         "In-person",
         "United States",
         "M"
        ],
        [
         "2023",
         "Data Architect",
         "Data Architecture and Modeling",
         "USD",
         "81800",
         "81800",
         "United States",
         "Senior",
         "Full-time",
         "In-person",
         "United States",
         "M"
        ],
        [
         "2023",
         "Data Scientist",
         "Data Science and Research",
         "USD",
         "212000",
         "212000",
         "United States",
         "Senior",
         "Full-time",
         "In-person",
         "United States",
         "M"
        ],
        [
         "2023",
         "Data Scientist",
         "Data Science and Research",
         "USD",
         "93300",
         "93300",
         "United States",
         "Senior",
         "Full-time",
         "In-person",
         "United States",
         "M"
        ],
        [
         "2023",
         "Data Scientist",
         "Data Science and Research",
         "USD",
         "130000",
         "130000",
         "United States",
         "Senior",
         "Full-time",
         "Remote",
         "United States",
         "M"
        ],
        [
         "2023",
         "Data Scientist",
         "Data Science and Research",
         "USD",
         "100000",
         "100000",
         "United States",
         "Senior",
         "Full-time",
         "Remote",
         "United States",
         "M"
        ],
        [
         "2023",
         "Machine Learning Researcher",
         "Machine Learning and AI",
         "USD",
         "224400",
         "224400",
         "United States",
         "Mid-level",
         "Full-time",
         "In-person",
         "United States",
         "M"
        ],
        [
         "2023",
         "Machine Learning Researcher",
         "Machine Learning and AI",
         "USD",
         "138700",
         "138700",
         "United States",
         "Mid-level",
         "Full-time",
         "In-person",
         "United States",
         "M"
        ],
        [
         "2023",
         "Data Engineer",
         "Data Engineering",
         "USD",
         "210000",
         "210000",
         "United States",
         "Executive",
         "Full-time",
         "Remote",
         "United States",
         "M"
        ]
       ],
       "datasetInfos": [],
       "dbfsResultPath": null,
       "isJsonSchema": true,
       "metadata": {},
       "overflow": false,
       "plotOptions": {
        "customPlotOptions": {},
        "displayType": "table",
        "pivotAggregation": null,
        "pivotColumns": null,
        "xColumns": null,
        "yColumns": null
       },
       "removedWidgets": [],
       "schema": [
        {
         "metadata": "{}",
         "name": "work_year",
         "type": "\"string\""
        },
        {
         "metadata": "{}",
         "name": "job_title",
         "type": "\"string\""
        },
        {
         "metadata": "{}",
         "name": "job_category",
         "type": "\"string\""
        },
        {
         "metadata": "{}",
         "name": "salary_currency",
         "type": "\"string\""
        },
        {
         "metadata": "{}",
         "name": "salary",
         "type": "\"string\""
        },
        {
         "metadata": "{}",
         "name": "salary_in_usd",
         "type": "\"string\""
        },
        {
         "metadata": "{}",
         "name": "employee_residence",
         "type": "\"string\""
        },
        {
         "metadata": "{}",
         "name": "experience_level",
         "type": "\"string\""
        },
        {
         "metadata": "{}",
         "name": "employment_type",
         "type": "\"string\""
        },
        {
         "metadata": "{}",
         "name": "work_setting",
         "type": "\"string\""
        },
        {
         "metadata": "{}",
         "name": "company_location",
         "type": "\"string\""
        },
        {
         "metadata": "{}",
         "name": "company_size",
         "type": "\"string\""
        }
       ],
       "type": "table"
      }
     },
     "output_type": "display_data"
    }
   ],
   "source": [
    "%sql\n",
    "SELECT\n",
    "  *\n",
    "FROM jobs_in_data_csv\n",
    "LIMIT 10;"
   ]
  },
  {
   "cell_type": "markdown",
   "metadata": {
    "application/vnd.databricks.v1+cell": {
     "cellMetadata": {},
     "inputWidgets": {},
     "nuid": "fc26954c-86e9-4101-9552-ad9d0f368be6",
     "showTitle": false,
     "tableResultSettingsMap": {},
     "title": ""
    }
   },
   "source": [
    "### Selecionando Dados para Análise Estatística:\n",
    "\n",
    "Criando um dataframe contendo apenas as colunas de cargos específicos (Analistas e Cientistas de Dados) e seus respectivos salários em dólar, como preparação para os testes estatísticos."
   ]
  },
  {
   "cell_type": "code",
   "execution_count": 0,
   "metadata": {
    "application/vnd.databricks.v1+cell": {
     "cellMetadata": {
      "byteLimit": 2048000,
      "implicitDf": true,
      "rowLimit": 10000
     },
     "inputWidgets": {},
     "nuid": "c4a42c64-9393-4832-b103-bbec121515ec",
     "showTitle": false,
     "tableResultSettingsMap": {},
     "title": ""
    }
   },
   "outputs": [
    {
     "output_type": "display_data",
     "data": {
      "text/html": [
       "<style scoped>\n",
       "  .table-result-container {\n",
       "    max-height: 300px;\n",
       "    overflow: auto;\n",
       "  }\n",
       "  table, th, td {\n",
       "    border: 1px solid black;\n",
       "    border-collapse: collapse;\n",
       "  }\n",
       "  th, td {\n",
       "    padding: 5px;\n",
       "  }\n",
       "  th {\n",
       "    text-align: left;\n",
       "  }\n",
       "</style><div class='table-result-container'><table class='table-result'><thead style='background-color: white'><tr><th>job_title</th><th>salary_in_usd</th></tr></thead><tbody><tr><td>Data Scientist</td><td>235000</td></tr><tr><td>Data Scientist</td><td>156000</td></tr><tr><td>Data Scientist</td><td>63701</td></tr><tr><td>Data Scientist</td><td>90734</td></tr><tr><td>Data Scientist</td><td>130000</td></tr><tr><td>Data Scientist</td><td>175750</td></tr><tr><td>Data Scientist</td><td>128000</td></tr><tr><td>Data Analyst</td><td>122720</td></tr><tr><td>Data Scientist</td><td>205150</td></tr><tr><td>Data Scientist</td><td>185900</td></tr><tr><td>Data Analyst</td><td>90000</td></tr><tr><td>Data Analyst</td><td>170000</td></tr><tr><td>Data Scientist</td><td>81536</td></tr><tr><td>Data Scientist</td><td>118575</td></tr><tr><td>Data Scientist</td><td>244000</td></tr><tr><td>Data Scientist</td><td>265000</td></tr><tr><td>Data Analyst</td><td>100895</td></tr><tr><td>Data Scientist</td><td>148000</td></tr><tr><td>Data Scientist</td><td>84053</td></tr><tr><td>Data Scientist</td><td>58400</td></tr><tr><td>Data Analyst</td><td>116700</td></tr><tr><td>Data Analyst</td><td>140700</td></tr><tr><td>Data Scientist</td><td>107000</td></tr><tr><td>Data Scientist</td><td>159699</td></tr><tr><td>Data Scientist</td><td>188200</td></tr><tr><td>Data Scientist</td><td>101500</td></tr><tr><td>Data Scientist</td><td>226600</td></tr><tr><td>Data Analyst</td><td>68550</td></tr><tr><td>Data Scientist</td><td>30000</td></tr><tr><td>Data Analyst</td><td>87500</td></tr><tr><td>Data Scientist</td><td>131310</td></tr><tr><td>Data Analyst</td><td>139000</td></tr><tr><td>Data Analyst</td><td>94600</td></tr><tr><td>Data Analyst</td><td>148000</td></tr><tr><td>Data Scientist</td><td>49268</td></tr><tr><td>Data Scientist</td><td>137500</td></tr><tr><td>Data Analyst</td><td>59000</td></tr><tr><td>Data Analyst</td><td>58161</td></tr><tr><td>Data Analyst</td><td>113000</td></tr><tr><td>Data Analyst</td><td>385000</td></tr><tr><td>Data Scientist</td><td>37825</td></tr><tr><td>Data Scientist</td><td>224800</td></tr><tr><td>Data Scientist</td><td>132200</td></tr><tr><td>Data Scientist</td><td>136994</td></tr><tr><td>Data Analyst</td><td>115500</td></tr><tr><td>Data Scientist</td><td>19434</td></tr><tr><td>Data Scientist</td><td>161000</td></tr><tr><td>Data Scientist</td><td>111967</td></tr><tr><td>Data Scientist</td><td>167500</td></tr><tr><td>Data Scientist</td><td>118208</td></tr><tr><td>Data Scientist</td><td>157750</td></tr><tr><td>Data Analyst</td><td>79976</td></tr><tr><td>Data Scientist</td><td>183310</td></tr><tr><td>Data Scientist</td><td>191475</td></tr><tr><td>Data Scientist</td><td>174250</td></tr><tr><td>Data Scientist</td><td>228856</td></tr><tr><td>Data Scientist</td><td>120096</td></tr><tr><td>Data Analyst</td><td>74800</td></tr><tr><td>Data Scientist</td><td>197600</td></tr><tr><td>Data Scientist</td><td>115360</td></tr><tr><td>Data Analyst</td><td>170500</td></tr><tr><td>Data Scientist</td><td>31310</td></tr><tr><td>Data Analyst</td><td>145640</td></tr><tr><td>Data Scientist</td><td>114000</td></tr><tr><td>Data Scientist</td><td>218213</td></tr><tr><td>Data Analyst</td><td>201000</td></tr><tr><td>Data Analyst</td><td>136600</td></tr><tr><td>Data Scientist</td><td>253000</td></tr><tr><td>Data Scientist</td><td>146000</td></tr><tr><td>Data Scientist</td><td>127300</td></tr><tr><td>Data Scientist</td><td>140000</td></tr><tr><td>Data Scientist</td><td>280000</td></tr><tr><td>Data Analyst</td><td>132500</td></tr><tr><td>Data Scientist</td><td>126000</td></tr><tr><td>Data Scientist</td><td>278700</td></tr><tr><td>Data Analyst</td><td>94400</td></tr><tr><td>Data Scientist</td><td>43096</td></tr><tr><td>Data Scientist</td><td>412000</td></tr><tr><td>Data Analyst</td><td>185000</td></tr><tr><td>Data Scientist</td><td>172100</td></tr><tr><td>Data Scientist</td><td>140100</td></tr><tr><td>Data Scientist</td><td>231000</td></tr><tr><td>Data Analyst</td><td>202800</td></tr><tr><td>Data Scientist</td><td>106200</td></tr><tr><td>Data Analyst</td><td>63600</td></tr><tr><td>Data Analyst</td><td>106400</td></tr><tr><td>Data Scientist</td><td>181500</td></tr><tr><td>Data Scientist</td><td>167310</td></tr><tr><td>Data Scientist</td><td>350000</td></tr><tr><td>Data Analyst</td><td>150075</td></tr><tr><td>Data Scientist</td><td>86193</td></tr><tr><td>Data Scientist</td><td>150000</td></tr><tr><td>Data Scientist</td><td>232200</td></tr><tr><td>Data Scientist</td><td>205500</td></tr><tr><td>Data Analyst</td><td>126000</td></tr><tr><td>Data Analyst</td><td>97750</td></tr><tr><td>Data Scientist</td><td>224000</td></tr><tr><td>Data Analyst</td><td>15000</td></tr><tr><td>Data Scientist</td><td>203000</td></tr><tr><td>Data Scientist</td><td>96313</td></tr><tr><td>Data Scientist</td><td>214500</td></tr><tr><td>Data Scientist</td><td>207000</td></tr><tr><td>Data Scientist</td><td>110736</td></tr><tr><td>Data Scientist</td><td>166000</td></tr><tr><td>Data Scientist</td><td>58300</td></tr><tr><td>Data Scientist</td><td>153000</td></tr><tr><td>Data Analyst</td><td>127075</td></tr><tr><td>Data Scientist</td><td>153400</td></tr><tr><td>Data Scientist</td><td>184184</td></tr><tr><td>Data Scientist</td><td>37824</td></tr><tr><td>Data Scientist</td><td>61467</td></tr><tr><td>Data Scientist</td><td>93300</td></tr><tr><td>Data Analyst</td><td>70600</td></tr><tr><td>Data Scientist</td><td>167560</td></tr><tr><td>Data Analyst</td><td>166500</td></tr><tr><td>Data Scientist</td><td>169000</td></tr><tr><td>Data Scientist</td><td>142436</td></tr><tr><td>Data Analyst</td><td>95000</td></tr><tr><td>Data Analyst</td><td>120000</td></tr><tr><td>Data Analyst</td><td>212000</td></tr><tr><td>Data Scientist</td><td>53984</td></tr><tr><td>Data Scientist</td><td>107682</td></tr><tr><td>Data Scientist</td><td>280889</td></tr><tr><td>Data Scientist</td><td>324000</td></tr><tr><td>Data Analyst</td><td>213210</td></tr><tr><td>Data Scientist</td><td>162500</td></tr><tr><td>Data Analyst</td><td>123648</td></tr><tr><td>Data Analyst</td><td>88200</td></tr><tr><td>Data Scientist</td><td>127000</td></tr><tr><td>Data Analyst</td><td>98000</td></tr><tr><td>Data Analyst</td><td>131712</td></tr><tr><td>Data Scientist</td><td>82254</td></tr><tr><td>Data Scientist</td><td>159200</td></tr><tr><td>Data Scientist</td><td>187415</td></tr><tr><td>Data Scientist</td><td>91000</td></tr><tr><td>Data Scientist</td><td>108800</td></tr><tr><td>Data Analyst</td><td>62500</td></tr><tr><td>Data Scientist</td><td>233300</td></tr><tr><td>Data Scientist</td><td>98432</td></tr><tr><td>Data Analyst</td><td>110000</td></tr><tr><td>Data Analyst</td><td>176000</td></tr><tr><td>Data Scientist</td><td>216800</td></tr><tr><td>Data Scientist</td><td>106800</td></tr><tr><td>Data Analyst</td><td>69525</td></tr><tr><td>Data Scientist</td><td>124234</td></tr><tr><td>Data Analyst</td><td>109280</td></tr><tr><td>Data Scientist</td><td>187259</td></tr><tr><td>Data Analyst</td><td>98873</td></tr><tr><td>Data Scientist</td><td>262000</td></tr><tr><td>Data Analyst</td><td>149500</td></tr><tr><td>Data Analyst</td><td>108000</td></tr><tr><td>Data Scientist</td><td>143250</td></tr><tr><td>Data Analyst</td><td>227000</td></tr><tr><td>Data Scientist</td><td>52008</td></tr><tr><td>Data Scientist</td><td>46809</td></tr><tr><td>Data Analyst</td><td>185100</td></tr><tr><td>Data Scientist</td><td>186300</td></tr><tr><td>Data Scientist</td><td>204100</td></tr><tr><td>Data Analyst</td><td>36912</td></tr><tr><td>Data Analyst</td><td>121000</td></tr><tr><td>Data Scientist</td><td>285800</td></tr><tr><td>Data Analyst</td><td>179975</td></tr><tr><td>Data Scientist</td><td>21669</td></tr><tr><td>Data Scientist</td><td>139000</td></tr><tr><td>Data Scientist</td><td>180250</td></tr><tr><td>Data Analyst</td><td>149000</td></tr><tr><td>Data Analyst</td><td>142000</td></tr><tr><td>Data Scientist</td><td>176000</td></tr><tr><td>Data Scientist</td><td>108000</td></tr><tr><td>Data Scientist</td><td>185400</td></tr><tr><td>Data Analyst</td><td>61200</td></tr><tr><td>Data Analyst</td><td>111151</td></tr><tr><td>Data Scientist</td><td>249500</td></tr><tr><td>Data Analyst</td><td>128875</td></tr><tr><td>Data Analyst</td><td>50432</td></tr><tr><td>Data Scientist</td><td>131100</td></tr><tr><td>Data Analyst</td><td>157500</td></tr><tr><td>Data Scientist</td><td>143750</td></tr><tr><td>Data Scientist</td><td>290000</td></tr><tr><td>Data Scientist</td><td>141600</td></tr><tr><td>Data Scientist</td><td>67672</td></tr><tr><td>Data Analyst</td><td>125404</td></tr><tr><td>Data Scientist</td><td>87738</td></tr><tr><td>Data Scientist</td><td>223400</td></tr><tr><td>Data Analyst</td><td>92000</td></tr><tr><td>Data Analyst</td><td>127000</td></tr><tr><td>Data Scientist</td><td>38000</td></tr><tr><td>Data Analyst</td><td>216200</td></tr><tr><td>Data Scientist</td><td>115573</td></tr><tr><td>Data Analyst</td><td>230000</td></tr><tr><td>Data Analyst</td><td>30000</td></tr><tr><td>Data Scientist</td><td>84000</td></tr><tr><td>Data Analyst</td><td>58400</td></tr><tr><td>Data Scientist</td><td>156100</td></tr><tr><td>Data Scientist</td><td>130900</td></tr><tr><td>Data Scientist</td><td>184000</td></tr><tr><td>Data Scientist</td><td>256000</td></tr><tr><td>Data Scientist</td><td>236900</td></tr><tr><td>Data Scientist</td><td>133000</td></tr><tr><td>Data Scientist</td><td>57872</td></tr><tr><td>Data Scientist</td><td>138600</td></tr><tr><td>Data Analyst</td><td>115950</td></tr><tr><td>Data Analyst</td><td>43064</td></tr><tr><td>Data Scientist</td><td>50745</td></tr><tr><td>Data Scientist</td><td>148750</td></tr><tr><td>Data Analyst</td><td>100500</td></tr><tr><td>Data Scientist</td><td>48585</td></tr><tr><td>Data Scientist</td><td>151300</td></tr><tr><td>Data Analyst</td><td>136505</td></tr><tr><td>Data Analyst</td><td>131685</td></tr><tr><td>Data Scientist</td><td>20171</td></tr><tr><td>Data Analyst</td><td>75000</td></tr><tr><td>Data Scientist</td><td>300000</td></tr><tr><td>Data Analyst</td><td>73100</td></tr><tr><td>Data Scientist</td><td>125000</td></tr><tr><td>Data Scientist</td><td>55368</td></tr><tr><td>Data Analyst</td><td>169000</td></tr><tr><td>Data Scientist</td><td>106250</td></tr><tr><td>Data Scientist</td><td>64090</td></tr><tr><td>Data Scientist</td><td>73000</td></tr><tr><td>Data Analyst</td><td>74400</td></tr><tr><td>Data Scientist</td><td>101000</td></tr><tr><td>Data Analyst</td><td>189400</td></tr><tr><td>Data Analyst</td><td>236600</td></tr><tr><td>Data Scientist</td><td>247600</td></tr><tr><td>Data Analyst</td><td>85256</td></tr><tr><td>Data Scientist</td><td>95490</td></tr><tr><td>Data Scientist</td><td>71400</td></tr><tr><td>Data Scientist</td><td>177300</td></tr><tr><td>Data Analyst</td><td>68000</td></tr><tr><td>Data Scientist</td><td>323300</td></tr><tr><td>Data Analyst</td><td>141290</td></tr><tr><td>Data Analyst</td><td>138800</td></tr><tr><td>Data Analyst</td><td>106000</td></tr><tr><td>Data Scientist</td><td>128750</td></tr><tr><td>Data Analyst</td><td>72400</td></tr><tr><td>Data Analyst</td><td>61800</td></tr><tr><td>Data Analyst</td><td>42028</td></tr><tr><td>Data Scientist</td><td>140400</td></tr><tr><td>Data Analyst</td><td>58000</td></tr><tr><td>Data Analyst</td><td>155000</td></tr><tr><td>Data Scientist</td><td>123000</td></tr><tr><td>Data Analyst</td><td>137500</td></tr><tr><td>Data Scientist</td><td>51000</td></tr><tr><td>Data Scientist</td><td>55000</td></tr><tr><td>Data Scientist</td><td>104000</td></tr><tr><td>Data Scientist</td><td>186846</td></tr><tr><td>Data Scientist</td><td>268000</td></tr><tr><td>Data Analyst</td><td>105320</td></tr><tr><td>Data Scientist</td><td>184250</td></tr><tr><td>Data Analyst</td><td>223100</td></tr><tr><td>Data Analyst</td><td>136260</td></tr><tr><td>Data Scientist</td><td>171000</td></tr><tr><td>Data Scientist</td><td>118000</td></tr><tr><td>Data Scientist</td><td>116300</td></tr><tr><td>Data Analyst</td><td>78000</td></tr><tr><td>Data Scientist</td><td>196000</td></tr><tr><td>Data Scientist</td><td>121000</td></tr><tr><td>Data Scientist</td><td>172800</td></tr><tr><td>Data Scientist</td><td>150200</td></tr><tr><td>Data Scientist</td><td>123040</td></tr><tr><td>Data Scientist</td><td>172200</td></tr><tr><td>Data Scientist</td><td>136742</td></tr><tr><td>Data Scientist</td><td>172758</td></tr><tr><td>Data Analyst</td><td>163800</td></tr><tr><td>Data Analyst</td><td>79000</td></tr><tr><td>Data Analyst</td><td>192300</td></tr><tr><td>Data Analyst</td><td>122000</td></tr><tr><td>Data Scientist</td><td>122500</td></tr><tr><td>Data Scientist</td><td>25532</td></tr><tr><td>Data Analyst</td><td>158494</td></tr><tr><td>Data Scientist</td><td>92000</td></tr><tr><td>Data Scientist</td><td>197400</td></tr><tr><td>Data Scientist</td><td>172386</td></tr><tr><td>Data Scientist</td><td>120402</td></tr><tr><td>Data Analyst</td><td>112200</td></tr><tr><td>Data Scientist</td><td>127950</td></tr><tr><td>Data Analyst</td><td>204500</td></tr><tr><td>Data Scientist</td><td>213300</td></tr><tr><td>Data Scientist</td><td>222750</td></tr><tr><td>Data Analyst</td><td>18160</td></tr><tr><td>Data Analyst</td><td>90320</td></tr><tr><td>Data Analyst</td><td>55368</td></tr><tr><td>Data Analyst</td><td>57800</td></tr><tr><td>Data Analyst</td><td>44294</td></tr><tr><td>Data Scientist</td><td>77900</td></tr><tr><td>Data Scientist</td><td>93918</td></tr><tr><td>Data Analyst</td><td>106020</td></tr><tr><td>Data Scientist</td><td>300240</td></tr><tr><td>Data Scientist</td><td>131000</td></tr><tr><td>Data Scientist</td><td>224250</td></tr><tr><td>Data Analyst</td><td>103200</td></tr><tr><td>Data Analyst</td><td>207300</td></tr><tr><td>Data Scientist</td><td>60462</td></tr><tr><td>Data Scientist</td><td>113000</td></tr><tr><td>Data Scientist</td><td>158200</td></tr><tr><td>Data Scientist</td><td>77684</td></tr><tr><td>Data Analyst</td><td>133000</td></tr><tr><td>Data Analyst</td><td>73500</td></tr><tr><td>Data Scientist</td><td>206000</td></tr><tr><td>Data Scientist</td><td>124000</td></tr><tr><td>Data Analyst</td><td>84900</td></tr><tr><td>Data Scientist</td><td>205000</td></tr><tr><td>Data Analyst</td><td>94770</td></tr><tr><td>Data Analyst</td><td>67500</td></tr><tr><td>Data Scientist</td><td>255000</td></tr><tr><td>Data Scientist</td><td>129300</td></tr><tr><td>Data Scientist</td><td>172500</td></tr><tr><td>Data Analyst</td><td>71615</td></tr><tr><td>Data Scientist</td><td>202000</td></tr><tr><td>Data Analyst</td><td>96750</td></tr><tr><td>Data Analyst</td><td>41027</td></tr><tr><td>Data Analyst</td><td>40400</td></tr><tr><td>Data Scientist</td><td>25912</td></tr><tr><td>Data Analyst</td><td>165000</td></tr><tr><td>Data Scientist</td><td>165000</td></tr><tr><td>Data Scientist</td><td>219000</td></tr><tr><td>Data Analyst</td><td>104244</td></tr><tr><td>Data Scientist</td><td>147100</td></tr><tr><td>Data Scientist</td><td>182250</td></tr><tr><td>Data Analyst</td><td>56100</td></tr><tr><td>Data Scientist</td><td>97750</td></tr><tr><td>Data Analyst</td><td>152380</td></tr><tr><td>Data Scientist</td><td>54000</td></tr><tr><td>Data Scientist</td><td>43187</td></tr><tr><td>Data Analyst</td><td>92280</td></tr><tr><td>Data Scientist</td><td>109000</td></tr><tr><td>Data Scientist</td><td>260000</td></tr><tr><td>Data Scientist</td><td>236500</td></tr><tr><td>Data Scientist</td><td>82365</td></tr><tr><td>Data Scientist</td><td>102100</td></tr><tr><td>Data Analyst</td><td>70374</td></tr><tr><td>Data Scientist</td><td>192351</td></tr><tr><td>Data Scientist</td><td>134000</td></tr><tr><td>Data Analyst</td><td>72000</td></tr><tr><td>Data Scientist</td><td>59382</td></tr><tr><td>Data Analyst</td><td>109000</td></tr><tr><td>Data Scientist</td><td>182000</td></tr><tr><td>Data Scientist</td><td>75577</td></tr><tr><td>Data Scientist</td><td>236160</td></tr><tr><td>Data Analyst</td><td>49216</td></tr><tr><td>Data Scientist</td><td>198800</td></tr><tr><td>Data Scientist</td><td>270000</td></tr><tr><td>Data Scientist</td><td>240350</td></tr><tr><td>Data Analyst</td><td>172000</td></tr><tr><td>Data Analyst</td><td>106260</td></tr><tr><td>Data Analyst</td><td>154440</td></tr><tr><td>Data Analyst</td><td>153800</td></tr><tr><td>Data Analyst</td><td>84000</td></tr><tr><td>Data Scientist</td><td>136100</td></tr><tr><td>Data Analyst</td><td>156000</td></tr><tr><td>Data Analyst</td><td>118600</td></tr><tr><td>Data Scientist</td><td>239000</td></tr><tr><td>Data Scientist</td><td>201000</td></tr><tr><td>Data Scientist</td><td>78000</td></tr><tr><td>Data Analyst</td><td>85500</td></tr><tr><td>Data Analyst</td><td>83000</td></tr><tr><td>Data Scientist</td><td>130001</td></tr><tr><td>Data Analyst</td><td>102100</td></tr><tr><td>Data Analyst</td><td>85700</td></tr><tr><td>Data Scientist</td><td>157500</td></tr><tr><td>Data Scientist</td><td>149850</td></tr><tr><td>Data Scientist</td><td>170000</td></tr><tr><td>Data Scientist</td><td>94400</td></tr><tr><td>Data Scientist</td><td>252000</td></tr><tr><td>Data Scientist</td><td>266000</td></tr><tr><td>Data Scientist</td><td>231650</td></tr><tr><td>Data Analyst</td><td>65000</td></tr><tr><td>Data Analyst</td><td>86000</td></tr><tr><td>Data Scientist</td><td>122600</td></tr><tr><td>Data Analyst</td><td>36773</td></tr><tr><td>Data Scientist</td><td>184800</td></tr><tr><td>Data Analyst</td><td>59400</td></tr><tr><td>Data Scientist</td><td>184700</td></tr><tr><td>Data Scientist</td><td>122700</td></tr><tr><td>Data Analyst</td><td>147600</td></tr><tr><td>Data Analyst</td><td>115934</td></tr><tr><td>Data Analyst</td><td>92350</td></tr><tr><td>Data Analyst</td><td>63831</td></tr><tr><td>Data Scientist</td><td>204500</td></tr><tr><td>Data Scientist</td><td>24000</td></tr><tr><td>Data Scientist</td><td>154600</td></tr><tr><td>Data Scientist</td><td>141300</td></tr><tr><td>Data Scientist</td><td>49646</td></tr><tr><td>Data Scientist</td><td>142500</td></tr><tr><td>Data Analyst</td><td>208049</td></tr><tr><td>Data Scientist</td><td>144000</td></tr><tr><td>Data Scientist</td><td>250830</td></tr><tr><td>Data Scientist</td><td>132500</td></tr><tr><td>Data Scientist</td><td>72409</td></tr><tr><td>Data Scientist</td><td>150120</td></tr><tr><td>Data Scientist</td><td>138784</td></tr><tr><td>Data Scientist</td><td>115440</td></tr><tr><td>Data Analyst</td><td>91000</td></tr><tr><td>Data Analyst</td><td>119636</td></tr><tr><td>Data Analyst</td><td>130000</td></tr><tr><td>Data Scientist</td><td>203500</td></tr><tr><td>Data Scientist</td><td>186000</td></tr><tr><td>Data Analyst</td><td>25216</td></tr><tr><td>Data Scientist</td><td>131752</td></tr><tr><td>Data Scientist</td><td>234000</td></tr><tr><td>Data Scientist</td><td>205400</td></tr><tr><td>Data Scientist</td><td>141000</td></tr><tr><td>Data Scientist</td><td>239080</td></tr><tr><td>Data Scientist</td><td>35000</td></tr><tr><td>Data Analyst</td><td>187000</td></tr><tr><td>Data Analyst</td><td>154000</td></tr><tr><td>Data Scientist</td><td>187500</td></tr><tr><td>Data Scientist</td><td>90000</td></tr><tr><td>Data Scientist</td><td>178600</td></tr><tr><td>Data Analyst</td><td>102434</td></tr><tr><td>Data Scientist</td><td>154000</td></tr><tr><td>Data Analyst</td><td>64000</td></tr><tr><td>Data Scientist</td><td>94560</td></tr><tr><td>Data Analyst</td><td>86193</td></tr><tr><td>Data Scientist</td><td>198300</td></tr><tr><td>Data Analyst</td><td>105500</td></tr><tr><td>Data Analyst</td><td>166700</td></tr><tr><td>Data Scientist</td><td>80000</td></tr><tr><td>Data Analyst</td><td>94000</td></tr><tr><td>Data Analyst</td><td>83500</td></tr><tr><td>Data Scientist</td><td>258700</td></tr><tr><td>Data Analyst</td><td>111000</td></tr><tr><td>Data Analyst</td><td>96800</td></tr><tr><td>Data Scientist</td><td>165220</td></tr><tr><td>Data Scientist</td><td>38776</td></tr><tr><td>Data Scientist</td><td>198200</td></tr><tr><td>Data Scientist</td><td>138900</td></tr><tr><td>Data Scientist</td><td>253430</td></tr><tr><td>Data Scientist</td><td>267100</td></tr><tr><td>Data Scientist</td><td>86128</td></tr><tr><td>Data Scientist</td><td>119000</td></tr><tr><td>Data Scientist</td><td>110250</td></tr><tr><td>Data Analyst</td><td>164000</td></tr><tr><td>Data Scientist</td><td>85600</td></tr><tr><td>Data Scientist</td><td>61699</td></tr><tr><td>Data Scientist</td><td>126500</td></tr><tr><td>Data Analyst</td><td>180400</td></tr><tr><td>Data Scientist</td><td>191765</td></tr><tr><td>Data Analyst</td><td>182500</td></tr><tr><td>Data Scientist</td><td>19910</td></tr><tr><td>Data Analyst</td><td>56143</td></tr><tr><td>Data Scientist</td><td>61566</td></tr><tr><td>Data Scientist</td><td>56256</td></tr><tr><td>Data Scientist</td><td>144500</td></tr><tr><td>Data Analyst</td><td>81800</td></tr><tr><td>Data Analyst</td><td>129150</td></tr><tr><td>Data Scientist</td><td>249600</td></tr><tr><td>Data Scientist</td><td>212750</td></tr><tr><td>Data Scientist</td><td>82920</td></tr><tr><td>Data Scientist</td><td>120250</td></tr><tr><td>Data Scientist</td><td>116000</td></tr><tr><td>Data Scientist</td><td>159408</td></tr><tr><td>Data Scientist</td><td>175000</td></tr><tr><td>Data Scientist</td><td>158677</td></tr><tr><td>Data Analyst</td><td>430967</td></tr><tr><td>Data Scientist</td><td>243900</td></tr><tr><td>Data Analyst</td><td>143520</td></tr><tr><td>Data Scientist</td><td>138938</td></tr><tr><td>Data Scientist</td><td>25000</td></tr><tr><td>Data Analyst</td><td>61300</td></tr><tr><td>Data Scientist</td><td>210400</td></tr><tr><td>Data Scientist</td><td>119200</td></tr><tr><td>Data Analyst</td><td>93400</td></tr><tr><td>Data Scientist</td><td>254000</td></tr><tr><td>Data Scientist</td><td>167850</td></tr><tr><td>Data Analyst</td><td>88052</td></tr><tr><td>Data Analyst</td><td>72500</td></tr><tr><td>Data Scientist</td><td>159300</td></tr><tr><td>Data Scientist</td><td>49216</td></tr><tr><td>Data Scientist</td><td>86700</td></tr><tr><td>Data Scientist</td><td>183924</td></tr><tr><td>Data Scientist</td><td>123900</td></tr><tr><td>Data Analyst</td><td>99750</td></tr><tr><td>Data Analyst</td><td>66691</td></tr><tr><td>Data Scientist</td><td>178538</td></tr><tr><td>Data Scientist</td><td>212780</td></tr><tr><td>Data Scientist</td><td>166500</td></tr><tr><td>Data Analyst</td><td>146200</td></tr><tr><td>Data Scientist</td><td>205485</td></tr><tr><td>Data Analyst</td><td>123400</td></tr><tr><td>Data Scientist</td><td>92350</td></tr><tr><td>Data Scientist</td><td>198440</td></tr><tr><td>Data Scientist</td><td>123400</td></tr><tr><td>Data Scientist</td><td>147000</td></tr><tr><td>Data Scientist</td><td>190000</td></tr><tr><td>Data Analyst</td><td>78400</td></tr><tr><td>Data Analyst</td><td>52000</td></tr><tr><td>Data Scientist</td><td>182750</td></tr><tr><td>Data Scientist</td><td>101570</td></tr><tr><td>Data Scientist</td><td>155000</td></tr><tr><td>Data Analyst</td><td>81500</td></tr><tr><td>Data Scientist</td><td>104650</td></tr><tr><td>Data Analyst</td><td>144000</td></tr><tr><td>Data Scientist</td><td>218500</td></tr><tr><td>Data Analyst</td><td>46755</td></tr><tr><td>Data Analyst</td><td>99450</td></tr><tr><td>Data Scientist</td><td>172900</td></tr><tr><td>Data Scientist</td><td>208400</td></tr><tr><td>Data Analyst</td><td>98432</td></tr><tr><td>Data Analyst</td><td>34320</td></tr><tr><td>Data Analyst</td><td>93800</td></tr><tr><td>Data Scientist</td><td>94100</td></tr><tr><td>Data Scientist</td><td>173200</td></tr><tr><td>Data Analyst</td><td>131000</td></tr><tr><td>Data Analyst</td><td>60000</td></tr><tr><td>Data Scientist</td><td>239748</td></tr><tr><td>Data Analyst</td><td>180180</td></tr><tr><td>Data Analyst</td><td>93700</td></tr><tr><td>Data Scientist</td><td>120000</td></tr><tr><td>Data Scientist</td><td>170500</td></tr><tr><td>Data Analyst</td><td>84400</td></tr><tr><td>Data Analyst</td><td>93000</td></tr><tr><td>Data Scientist</td><td>149076</td></tr><tr><td>Data Analyst</td><td>73000</td></tr><tr><td>Data Analyst</td><td>145500</td></tr><tr><td>Data Scientist</td><td>34924</td></tr><tr><td>Data Scientist</td><td>209300</td></tr><tr><td>Data Analyst</td><td>86720</td></tr><tr><td>Data Scientist</td><td>115920</td></tr><tr><td>Data Scientist</td><td>130240</td></tr><tr><td>Data Analyst</td><td>61566</td></tr><tr><td>Data Scientist</td><td>200000</td></tr><tr><td>Data Scientist</td><td>134960</td></tr><tr><td>Data Scientist</td><td>228000</td></tr><tr><td>Data Analyst</td><td>89100</td></tr><tr><td>Data Scientist</td><td>77791</td></tr><tr><td>Data Scientist</td><td>50000</td></tr><tr><td>Data Scientist</td><td>83171</td></tr><tr><td>Data Scientist</td><td>103691</td></tr><tr><td>Data Scientist</td><td>159100</td></tr><tr><td>Data Scientist</td><td>237000</td></tr><tr><td>Data Scientist</td><td>145000</td></tr><tr><td>Data Scientist</td><td>275500</td></tr><tr><td>Data Analyst</td><td>138860</td></tr><tr><td>Data Scientist</td><td>151410</td></tr><tr><td>Data Scientist</td><td>33246</td></tr><tr><td>Data Scientist</td><td>68428</td></tr><tr><td>Data Analyst</td><td>102000</td></tr><tr><td>Data Analyst</td><td>22809</td></tr><tr><td>Data Scientist</td><td>99360</td></tr><tr><td>Data Scientist</td><td>138700</td></tr><tr><td>Data Analyst</td><td>102640</td></tr><tr><td>Data Analyst</td><td>55410</td></tr><tr><td>Data Scientist</td><td>93000</td></tr><tr><td>Data Analyst</td><td>28368</td></tr><tr><td>Data Scientist</td><td>98506</td></tr><tr><td>Data Analyst</td><td>36000</td></tr><tr><td>Data Scientist</td><td>125760</td></tr><tr><td>Data Analyst</td><td>97500</td></tr><tr><td>Data Analyst</td><td>71786</td></tr><tr><td>Data Scientist</td><td>38868</td></tr><tr><td>Data Scientist</td><td>143100</td></tr><tr><td>Data Scientist</td><td>85000</td></tr><tr><td>Data Scientist</td><td>95100</td></tr><tr><td>Data Scientist</td><td>159375</td></tr><tr><td>Data Analyst</td><td>33686</td></tr><tr><td>Data Analyst</td><td>161500</td></tr><tr><td>Data Scientist</td><td>158500</td></tr><tr><td>Data Scientist</td><td>115500</td></tr><tr><td>Data Scientist</td><td>195000</td></tr><tr><td>Data Analyst</td><td>138000</td></tr><tr><td>Data Scientist</td><td>80976</td></tr><tr><td>Data Scientist</td><td>151800</td></tr><tr><td>Data Analyst</td><td>125000</td></tr><tr><td>Data Analyst</td><td>121904</td></tr><tr><td>Data Analyst</td><td>66100</td></tr><tr><td>Data Scientist</td><td>168800</td></tr><tr><td>Data Scientist</td><td>316000</td></tr><tr><td>Data Analyst</td><td>112000</td></tr><tr><td>Data Scientist</td><td>148800</td></tr><tr><td>Data Analyst</td><td>74178</td></tr><tr><td>Data Analyst</td><td>50000</td></tr><tr><td>Data Scientist</td><td>154800</td></tr><tr><td>Data Analyst</td><td>192000</td></tr><tr><td>Data Scientist</td><td>112500</td></tr><tr><td>Data Analyst</td><td>161000</td></tr><tr><td>Data Scientist</td><td>199098</td></tr><tr><td>Data Scientist</td><td>272550</td></tr><tr><td>Data Scientist</td><td>130500</td></tr><tr><td>Data Analyst</td><td>124000</td></tr><tr><td>Data Scientist</td><td>275300</td></tr><tr><td>Data Analyst</td><td>48000</td></tr><tr><td>Data Analyst</td><td>94035</td></tr><tr><td>Data Analyst</td><td>190000</td></tr><tr><td>Data Scientist</td><td>111600</td></tr><tr><td>Data Analyst</td><td>117500</td></tr><tr><td>Data Analyst</td><td>110736</td></tr><tr><td>Data Analyst</td><td>42107</td></tr><tr><td>Data Scientist</td><td>122000</td></tr><tr><td>Data Scientist</td><td>140250</td></tr><tr><td>Data Scientist</td><td>77737</td></tr><tr><td>Data Analyst</td><td>99050</td></tr><tr><td>Data Scientist</td><td>297300</td></tr><tr><td>Data Analyst</td><td>171000</td></tr><tr><td>Data Scientist</td><td>225300</td></tr><tr><td>Data Scientist</td><td>126900</td></tr><tr><td>Data Analyst</td><td>119610</td></tr><tr><td>Data Analyst</td><td>94100</td></tr><tr><td>Data Scientist</td><td>185000</td></tr><tr><td>Data Analyst</td><td>134200</td></tr><tr><td>Data Scientist</td><td>201650</td></tr><tr><td>Data Scientist</td><td>223800</td></tr><tr><td>Data Scientist</td><td>154700</td></tr><tr><td>Data Scientist</td><td>16000</td></tr><tr><td>Data Analyst</td><td>149200</td></tr><tr><td>Data Analyst</td><td>121700</td></tr><tr><td>Data Scientist</td><td>216100</td></tr><tr><td>Data Scientist</td><td>110820</td></tr><tr><td>Data Scientist</td><td>190200</td></tr><tr><td>Data Analyst</td><td>105200</td></tr><tr><td>Data Scientist</td><td>104300</td></tr><tr><td>Data Scientist</td><td>53192</td></tr><tr><td>Data Scientist</td><td>144540</td></tr><tr><td>Data Analyst</td><td>120250</td></tr><tr><td>Data Analyst</td><td>208450</td></tr><tr><td>Data Scientist</td><td>317070</td></tr><tr><td>Data Scientist</td><td>72700</td></tr><tr><td>Data Scientist</td><td>226000</td></tr><tr><td>Data Scientist</td><td>116990</td></tr><tr><td>Data Scientist</td><td>140800</td></tr><tr><td>Data Analyst</td><td>89200</td></tr><tr><td>Data Scientist</td><td>60938</td></tr><tr><td>Data Analyst</td><td>175950</td></tr><tr><td>Data Scientist</td><td>171250</td></tr><tr><td>Data Scientist</td><td>97171</td></tr><tr><td>Data Scientist</td><td>156600</td></tr><tr><td>Data Scientist</td><td>48000</td></tr><tr><td>Data Scientist</td><td>82500</td></tr><tr><td>Data Scientist</td><td>65000</td></tr><tr><td>Data Scientist</td><td>194500</td></tr><tr><td>Data Scientist</td><td>142200</td></tr><tr><td>Data Analyst</td><td>172800</td></tr><tr><td>Data Analyst</td><td>113600</td></tr><tr><td>Data Analyst</td><td>147000</td></tr><tr><td>Data Analyst</td><td>104300</td></tr><tr><td>Data Scientist</td><td>36643</td></tr><tr><td>Data Scientist</td><td>162000</td></tr><tr><td>Data Analyst</td><td>46426</td></tr><tr><td>Data Scientist</td><td>78125</td></tr><tr><td>Data Scientist</td><td>258750</td></tr><tr><td>Data Analyst</td><td>62000</td></tr><tr><td>Data Scientist</td><td>140700</td></tr><tr><td>Data Scientist</td><td>247500</td></tr><tr><td>Data Scientist</td><td>144200</td></tr><tr><td>Data Scientist</td><td>170625</td></tr><tr><td>Data Analyst</td><td>95040</td></tr><tr><td>Data Analyst</td><td>195000</td></tr><tr><td>Data Analyst</td><td>136000</td></tr><tr><td>Data Scientist</td><td>181000</td></tr><tr><td>Data Scientist</td><td>151000</td></tr><tr><td>Data Scientist</td><td>73546</td></tr><tr><td>Data Analyst</td><td>120350</td></tr><tr><td>Data Scientist</td><td>295000</td></tr><tr><td>Data Scientist</td><td>88600</td></tr><tr><td>Data Scientist</td><td>122900</td></tr><tr><td>Data Analyst</td><td>148500</td></tr><tr><td>Data Analyst</td><td>70186</td></tr><tr><td>Data Scientist</td><td>64781</td></tr><tr><td>Data Analyst</td><td>51962</td></tr><tr><td>Data Analyst</td><td>139600</td></tr><tr><td>Data Analyst</td><td>153300</td></tr><tr><td>Data Scientist</td><td>122200</td></tr><tr><td>Data Scientist</td><td>277300</td></tr><tr><td>Data Analyst</td><td>206000</td></tr><tr><td>Data Scientist</td><td>183000</td></tr><tr><td>Data Scientist</td><td>201036</td></tr><tr><td>Data Scientist</td><td>161500</td></tr><tr><td>Data Analyst</td><td>130050</td></tr><tr><td>Data Scientist</td><td>82000</td></tr><tr><td>Data Scientist</td><td>88654</td></tr><tr><td>Data Analyst</td><td>140130</td></tr><tr><td>Data Scientist</td><td>204000</td></tr><tr><td>Data Scientist</td><td>118720</td></tr><tr><td>Data Scientist</td><td>222800</td></tr><tr><td>Data Scientist</td><td>277500</td></tr><tr><td>Data Scientist</td><td>51861</td></tr><tr><td>Data Scientist</td><td>91237</td></tr><tr><td>Data Scientist</td><td>180000</td></tr><tr><td>Data Scientist</td><td>227000</td></tr><tr><td>Data Scientist</td><td>370000</td></tr><tr><td>Data Analyst</td><td>40747</td></tr><tr><td>Data Analyst</td><td>59382</td></tr><tr><td>Data Analyst</td><td>47899</td></tr><tr><td>Data Scientist</td><td>76958</td></tr><tr><td>Data Analyst</td><td>164640</td></tr><tr><td>Data Scientist</td><td>156400</td></tr><tr><td>Data Scientist</td><td>310270</td></tr><tr><td>Data Analyst</td><td>101500</td></tr><tr><td>Data Analyst</td><td>168400</td></tr><tr><td>Data Scientist</td><td>133200</td></tr><tr><td>Data Analyst</td><td>96000</td></tr><tr><td>Data Analyst</td><td>67672</td></tr><tr><td>Data Scientist</td><td>242000</td></tr><tr><td>Data Analyst</td><td>69570</td></tr><tr><td>Data Scientist</td><td>230000</td></tr><tr><td>Data Scientist</td><td>40423</td></tr><tr><td>Data Scientist</td><td>207900</td></tr><tr><td>Data Scientist</td><td>143370</td></tr><tr><td>Data Scientist</td><td>213654</td></tr><tr><td>Data Scientist</td><td>51962</td></tr><tr><td>Data Scientist</td><td>74540</td></tr><tr><td>Data Analyst</td><td>143000</td></tr><tr><td>Data Scientist</td><td>160800</td></tr><tr><td>Data Analyst</td><td>207611</td></tr><tr><td>Data Analyst</td><td>87000</td></tr><tr><td>Data Analyst</td><td>65257</td></tr><tr><td>Data Analyst</td><td>182000</td></tr><tr><td>Data Scientist</td><td>122638</td></tr><tr><td>Data Scientist</td><td>177500</td></tr><tr><td>Data Scientist</td><td>119213</td></tr><tr><td>Data Analyst</td><td>138900</td></tr><tr><td>Data Analyst</td><td>44356</td></tr><tr><td>Data Scientist</td><td>119059</td></tr><tr><td>Data Scientist</td><td>225000</td></tr><tr><td>Data Analyst</td><td>157000</td></tr><tr><td>Data Analyst</td><td>46500</td></tr><tr><td>Data Analyst</td><td>131650</td></tr><tr><td>Data Analyst</td><td>132000</td></tr><tr><td>Data Scientist</td><td>55410</td></tr><tr><td>Data Analyst</td><td>69000</td></tr><tr><td>Data Scientist</td><td>307100</td></tr><tr><td>Data Scientist</td><td>147500</td></tr><tr><td>Data Analyst</td><td>81900</td></tr><tr><td>Data Scientist</td><td>100000</td></tr><tr><td>Data Analyst</td><td>70000</td></tr><tr><td>Data Scientist</td><td>222000</td></tr><tr><td>Data Scientist</td><td>42197</td></tr><tr><td>Data Analyst</td><td>82500</td></tr><tr><td>Data Analyst</td><td>65300</td></tr><tr><td>Data Scientist</td><td>257000</td></tr><tr><td>Data Analyst</td><td>132600</td></tr><tr><td>Data Analyst</td><td>64500</td></tr><tr><td>Data Scientist</td><td>104890</td></tr><tr><td>Data Scientist</td><td>100400</td></tr><tr><td>Data Scientist</td><td>138510</td></tr><tr><td>Data Scientist</td><td>169500</td></tr><tr><td>Data Scientist</td><td>260600</td></tr><tr><td>Data Analyst</td><td>168000</td></tr><tr><td>Data Scientist</td><td>223290</td></tr><tr><td>Data Analyst</td><td>113220</td></tr><tr><td>Data Analyst</td><td>146190</td></tr><tr><td>Data Analyst</td><td>105380</td></tr><tr><td>Data Analyst</td><td>106300</td></tr><tr><td>Data Analyst</td><td>280000</td></tr><tr><td>Data Scientist</td><td>157000</td></tr><tr><td>Data Scientist</td><td>233200</td></tr><tr><td>Data Scientist</td><td>116914</td></tr><tr><td>Data Analyst</td><td>250000</td></tr><tr><td>Data Scientist</td><td>132000</td></tr><tr><td>Data Scientist</td><td>136000</td></tr><tr><td>Data Analyst</td><td>180000</td></tr><tr><td>Data Scientist</td><td>228045</td></tr><tr><td>Data Scientist</td><td>32390</td></tr><tr><td>Data Analyst</td><td>153600</td></tr><tr><td>Data Scientist</td><td>93800</td></tr><tr><td>Data Scientist</td><td>121550</td></tr><tr><td>Data Scientist</td><td>231250</td></tr><tr><td>Data Scientist</td><td>189100</td></tr><tr><td>Data Analyst</td><td>67000</td></tr><tr><td>Data Scientist</td><td>214872</td></tr><tr><td>Data Analyst</td><td>119000</td></tr><tr><td>Data Scientist</td><td>188000</td></tr><tr><td>Data Scientist</td><td>147400</td></tr><tr><td>Data Analyst</td><td>229000</td></tr><tr><td>Data Analyst</td><td>107500</td></tr><tr><td>Data Scientist</td><td>174800</td></tr><tr><td>Data Scientist</td><td>141525</td></tr><tr><td>Data Analyst</td><td>105000</td></tr><tr><td>Data Analyst</td><td>122500</td></tr><tr><td>Data Analyst</td><td>93500</td></tr><tr><td>Data Analyst</td><td>70900</td></tr><tr><td>Data Scientist</td><td>272290</td></tr><tr><td>Data Analyst</td><td>72250</td></tr><tr><td>Data Scientist</td><td>62726</td></tr><tr><td>Data Analyst</td><td>158000</td></tr><tr><td>Data Analyst</td><td>192500</td></tr><tr><td>Data Scientist</td><td>225100</td></tr><tr><td>Data Scientist</td><td>140900</td></tr><tr><td>Data Analyst</td><td>118000</td></tr><tr><td>Data Analyst</td><td>134000</td></tr><tr><td>Data Analyst</td><td>154560</td></tr><tr><td>Data Scientist</td><td>245000</td></tr><tr><td>Data Analyst</td><td>48585</td></tr><tr><td>Data Scientist</td><td>209450</td></tr><tr><td>Data Scientist</td><td>113750</td></tr><tr><td>Data Scientist</td><td>212800</td></tr><tr><td>Data Analyst</td><td>133300</td></tr><tr><td>Data Analyst</td><td>138240</td></tr><tr><td>Data Scientist</td><td>71907</td></tr><tr><td>Data Scientist</td><td>173000</td></tr><tr><td>Data Analyst</td><td>51824</td></tr><tr><td>Data Scientist</td><td>31520</td></tr><tr><td>Data Scientist</td><td>329700</td></tr><tr><td>Data Scientist</td><td>118900</td></tr><tr><td>Data Scientist</td><td>167200</td></tr><tr><td>Data Analyst</td><td>102500</td></tr><tr><td>Data Scientist</td><td>135000</td></tr><tr><td>Data Scientist</td><td>153300</td></tr><tr><td>Data Scientist</td><td>211500</td></tr><tr><td>Data Analyst</td><td>177000</td></tr><tr><td>Data Analyst</td><td>129000</td></tr><tr><td>Data Scientist</td><td>248100</td></tr><tr><td>Data Scientist</td><td>178000</td></tr><tr><td>Data Scientist</td><td>183500</td></tr><tr><td>Data Scientist</td><td>183200</td></tr><tr><td>Data Scientist</td><td>79350</td></tr><tr><td>Data Analyst</td><td>99000</td></tr><tr><td>Data Analyst</td><td>100000</td></tr><tr><td>Data Scientist</td><td>139500</td></tr><tr><td>Data Scientist</td><td>199000</td></tr><tr><td>Data Analyst</td><td>142500</td></tr><tr><td>Data Analyst</td><td>167000</td></tr><tr><td>Data Analyst</td><td>95400</td></tr><tr><td>Data Scientist</td><td>107400</td></tr><tr><td>Data Scientist</td><td>155500</td></tr><tr><td>Data Analyst</td><td>110600</td></tr><tr><td>Data Analyst</td><td>131325</td></tr><tr><td>Data Scientist</td><td>120160</td></tr><tr><td>Data Scientist</td><td>40000</td></tr><tr><td>Data Scientist</td><td>36940</td></tr><tr><td>Data Scientist</td><td>79833</td></tr><tr><td>Data Scientist</td><td>81500</td></tr><tr><td>Data Scientist</td><td>90700</td></tr><tr><td>Data Scientist</td><td>187000</td></tr><tr><td>Data Analyst</td><td>186600</td></tr><tr><td>Data Scientist</td><td>173175</td></tr><tr><td>Data Scientist</td><td>235750</td></tr><tr><td>Data Analyst</td><td>150000</td></tr><tr><td>Data Scientist</td><td>189750</td></tr><tr><td>Data Scientist</td><td>39916</td></tr><tr><td>Data Scientist</td><td>208500</td></tr><tr><td>Data Analyst</td><td>115000</td></tr><tr><td>Data Scientist</td><td>92280</td></tr><tr><td>Data Analyst</td><td>114700</td></tr><tr><td>Data Scientist</td><td>202800</td></tr><tr><td>Data Scientist</td><td>172256</td></tr><tr><td>Data Scientist</td><td>208000</td></tr><tr><td>Data Scientist</td><td>134236</td></tr><tr><td>Data Scientist</td><td>359170</td></tr><tr><td>Data Scientist</td><td>156560</td></tr><tr><td>Data Scientist</td><td>149500</td></tr><tr><td>Data Analyst</td><td>83700</td></tr><tr><td>Data Scientist</td><td>54634</td></tr><tr><td>Data Scientist</td><td>136620</td></tr><tr><td>Data Analyst</td><td>93919</td></tr><tr><td>Data Scientist</td><td>76300</td></tr><tr><td>Data Scientist</td><td>135344</td></tr><tr><td>Data Analyst</td><td>53120</td></tr><tr><td>Data Scientist</td><td>150931</td></tr><tr><td>Data Scientist</td><td>51676</td></tr><tr><td>Data Scientist</td><td>36912</td></tr><tr><td>Data Analyst</td><td>49000</td></tr><tr><td>Data Scientist</td><td>138000</td></tr><tr><td>Data Analyst</td><td>119500</td></tr><tr><td>Data Analyst</td><td>124190</td></tr><tr><td>Data Analyst</td><td>32974</td></tr><tr><td>Data Scientist</td><td>215000</td></tr><tr><td>Data Scientist</td><td>153600</td></tr><tr><td>Data Scientist</td><td>120681</td></tr><tr><td>Data Scientist</td><td>215050</td></tr><tr><td>Data Scientist</td><td>180560</td></tr><tr><td>Data Scientist</td><td>205300</td></tr><tr><td>Data Analyst</td><td>145000</td></tr><tr><td>Data Scientist</td><td>183900</td></tr><tr><td>Data Scientist</td><td>73824</td></tr><tr><td>Data Analyst</td><td>59102</td></tr><tr><td>Data Scientist</td><td>210000</td></tr><tr><td>Data Analyst</td><td>85000</td></tr><tr><td>Data Analyst</td><td>43187</td></tr><tr><td>Data Scientist</td><td>281000</td></tr><tr><td>Data Scientist</td><td>47280</td></tr><tr><td>Data Scientist</td><td>110000</td></tr><tr><td>Data Analyst</td><td>193000</td></tr><tr><td>Data Scientist</td><td>133300</td></tr><tr><td>Data Analyst</td><td>38868</td></tr><tr><td>Data Analyst</td><td>126277</td></tr><tr><td>Data Scientist</td><td>299500</td></tr><tr><td>Data Analyst</td><td>112900</td></tr><tr><td>Data Analyst</td><td>200000</td></tr><tr><td>Data Scientist</td><td>105200</td></tr><tr><td>Data Scientist</td><td>142000</td></tr><tr><td>Data Scientist</td><td>92900</td></tr><tr><td>Data Scientist</td><td>161900</td></tr><tr><td>Data Scientist</td><td>227240</td></tr><tr><td>Data Analyst</td><td>121500</td></tr><tr><td>Data Analyst</td><td>240500</td></tr><tr><td>Data Analyst</td><td>68400</td></tr><tr><td>Data Scientist</td><td>145300</td></tr><tr><td>Data Analyst</td><td>84870</td></tr><tr><td>Data Scientist</td><td>164000</td></tr><tr><td>Data Analyst</td><td>127876</td></tr><tr><td>Data Analyst</td><td>206500</td></tr><tr><td>Data Scientist</td><td>73742</td></tr><tr><td>Data Scientist</td><td>33609</td></tr><tr><td>Data Analyst</td><td>137000</td></tr><tr><td>Data Scientist</td><td>160000</td></tr><tr><td>Data Analyst</td><td>128000</td></tr><tr><td>Data Scientist</td><td>308000</td></tr><tr><td>Data Analyst</td><td>61520</td></tr><tr><td>Data Scientist</td><td>240000</td></tr><tr><td>Data Scientist</td><td>182200</td></tr><tr><td>Data Scientist</td><td>88100</td></tr><tr><td>Data Scientist</td><td>138350</td></tr><tr><td>Data Scientist</td><td>177000</td></tr><tr><td>Data Scientist</td><td>218000</td></tr><tr><td>Data Scientist</td><td>102500</td></tr><tr><td>Data Analyst</td><td>49253</td></tr><tr><td>Data Scientist</td><td>145900</td></tr><tr><td>Data Analyst</td><td>154500</td></tr><tr><td>Data Scientist</td><td>48915</td></tr><tr><td>Data Analyst</td><td>41833</td></tr><tr><td>Data Scientist</td><td>114080</td></tr><tr><td>Data Analyst</td><td>140000</td></tr><tr><td>Data Analyst</td><td>64200</td></tr><tr><td>Data Analyst</td><td>86466</td></tr><tr><td>Data Scientist</td><td>179400</td></tr><tr><td>Data Scientist</td><td>119300</td></tr><tr><td>Data Scientist</td><td>297000</td></tr><tr><td>Data Scientist</td><td>61520</td></tr><tr><td>Data Analyst</td><td>81666</td></tr><tr><td>Data Analyst</td><td>185900</td></tr><tr><td>Data Analyst</td><td>66000</td></tr><tr><td>Data Analyst</td><td>175000</td></tr><tr><td>Data Scientist</td><td>296100</td></tr><tr><td>Data Analyst</td><td>123040</td></tr><tr><td>Data Scientist</td><td>215300</td></tr><tr><td>Data Scientist</td><td>192000</td></tr><tr><td>Data Analyst</td><td>104000</td></tr><tr><td>Data Scientist</td><td>215625</td></tr><tr><td>Data Scientist</td><td>250000</td></tr><tr><td>Data Analyst</td><td>116960</td></tr><tr><td>Data Scientist</td><td>283000</td></tr><tr><td>Data Analyst</td><td>86400</td></tr><tr><td>Data Scientist</td><td>159832</td></tr><tr><td>Data Scientist</td><td>67723</td></tr><tr><td>Data Analyst</td><td>110925</td></tr><tr><td>Data Scientist</td><td>152000</td></tr><tr><td>Data Analyst</td><td>88000</td></tr><tr><td>Data Analyst</td><td>223602</td></tr><tr><td>Data Scientist</td><td>88256</td></tr><tr><td>Data Scientist</td><td>52533</td></tr><tr><td>Data Analyst</td><td>39925</td></tr><tr><td>Data Scientist</td><td>80036</td></tr><tr><td>Data Scientist</td><td>117000</td></tr><tr><td>Data Scientist</td><td>111000</td></tr><tr><td>Data Scientist</td><td>179000</td></tr><tr><td>Data Scientist</td><td>191000</td></tr><tr><td>Data Scientist</td><td>51081</td></tr><tr><td>Data Scientist</td><td>51321</td></tr><tr><td>Data Analyst</td><td>166000</td></tr><tr><td>Data Analyst</td><td>93918</td></tr><tr><td>Data Analyst</td><td>126500</td></tr><tr><td>Data Scientist</td><td>169374</td></tr><tr><td>Data Analyst</td><td>119800</td></tr><tr><td>Data Scientist</td><td>280830</td></tr><tr><td>Data Analyst</td><td>80800</td></tr><tr><td>Data Scientist</td><td>158400</td></tr><tr><td>Data Scientist</td><td>201450</td></tr><tr><td>Data Analyst</td><td>42026</td></tr><tr><td>Data Analyst</td><td>102586</td></tr><tr><td>Data Analyst</td><td>79981</td></tr><tr><td>Data Scientist</td><td>159000</td></tr><tr><td>Data Scientist</td><td>207500</td></tr><tr><td>Data Analyst</td><td>125600</td></tr><tr><td>Data Analyst</td><td>53000</td></tr><tr><td>Data Analyst</td><td>86128</td></tr><tr><td>Data Scientist</td><td>198000</td></tr><tr><td>Data Scientist</td><td>178500</td></tr><tr><td>Data Analyst</td><td>148700</td></tr><tr><td>Data Analyst</td><td>128500</td></tr><tr><td>Data Scientist</td><td>93400</td></tr><tr><td>Data Analyst</td><td>116000</td></tr><tr><td>Data Scientist</td><td>196760</td></tr><tr><td>Data Scientist</td><td>75648</td></tr><tr><td>Data Analyst</td><td>31520</td></tr><tr><td>Data Scientist</td><td>185100</td></tr><tr><td>Data Analyst</td><td>46759</td></tr><tr><td>Data Scientist</td><td>195800</td></tr><tr><td>Data Scientist</td><td>305600</td></tr><tr><td>Data Scientist</td><td>127500</td></tr><tr><td>Data Scientist</td><td>167441</td></tr><tr><td>Data Scientist</td><td>136300</td></tr><tr><td>Data Analyst</td><td>106800</td></tr><tr><td>Data Scientist</td><td>45760</td></tr><tr><td>Data Scientist</td><td>172000</td></tr><tr><td>Data Scientist</td><td>287500</td></tr><tr><td>Data Analyst</td><td>144100</td></tr><tr><td>Data Analyst</td><td>51519</td></tr><tr><td>Data Scientist</td><td>71000</td></tr><tr><td>Data Scientist</td><td>202600</td></tr><tr><td>Data Scientist</td><td>238000</td></tr><tr><td>Data Scientist</td><td>110500</td></tr><tr><td>Data Scientist</td><td>170730</td></tr><tr><td>Data Analyst</td><td>46000</td></tr><tr><td>Data Scientist</td><td>58000</td></tr><tr><td>Data Scientist</td><td>130410</td></tr><tr><td>Data Scientist</td><td>168000</td></tr><tr><td>Data Scientist</td><td>211000</td></tr><tr><td>Data Analyst</td><td>369120</td></tr><tr><td>Data Analyst</td><td>98400</td></tr><tr><td>Data Analyst</td><td>57920</td></tr><tr><td>Data Scientist</td><td>83270</td></tr><tr><td>Data Analyst</td><td>121600</td></tr><tr><td>Data Scientist</td><td>63040</td></tr><tr><td>Data Scientist</td><td>60000</td></tr><tr><td>Data Scientist</td><td>57223</td></tr><tr><td>Data Scientist</td><td>207345</td></tr><tr><td>Data Scientist</td><td>210550</td></tr><tr><td>Data Scientist</td><td>124600</td></tr><tr><td>Data Scientist</td><td>143000</td></tr><tr><td>Data Analyst</td><td>123000</td></tr><tr><td>Data Analyst</td><td>109600</td></tr><tr><td>Data Scientist</td><td>168400</td></tr><tr><td>Data Analyst</td><td>52500</td></tr><tr><td>Data Scientist</td><td>220000</td></tr><tr><td>Data Analyst</td><td>135000</td></tr><tr><td>Data Analyst</td><td>55000</td></tr><tr><td>Data Scientist</td><td>126100</td></tr><tr><td>Data Scientist</td><td>180300</td></tr><tr><td>Data Analyst</td><td>36940</td></tr><tr><td>Data Scientist</td><td>212000</td></tr><tr><td>Data Scientist</td><td>70000</td></tr><tr><td>Data Scientist</td><td>272300</td></tr><tr><td>Data Scientist</td><td>95000</td></tr><tr><td>Data Analyst</td><td>170550</td></tr><tr><td>Data Scientist</td><td>134024</td></tr><tr><td>Data Analyst</td><td>20000</td></tr><tr><td>Data Scientist</td><td>95550</td></tr><tr><td>Data Scientist</td><td>75774</td></tr><tr><td>Data Analyst</td><td>91800</td></tr><tr><td>Data Analyst</td><td>82200</td></tr><tr><td>Data Scientist</td><td>214000</td></tr><tr><td>Data Analyst</td><td>53800</td></tr><tr><td>Data Scientist</td><td>79976</td></tr><tr><td>Data Analyst</td><td>80000</td></tr><tr><td>Data Scientist</td><td>167000</td></tr><tr><td>Data Scientist</td><td>105000</td></tr><tr><td>Data Analyst</td><td>160000</td></tr><tr><td>Data Scientist</td><td>295490</td></tr><tr><td>Data Analyst</td><td>54000</td></tr><tr><td>Data Scientist</td><td>178560</td></tr><tr><td>Data Scientist</td><td>89306</td></tr><tr><td>Data Analyst</td><td>43096</td></tr><tr><td>Data Analyst</td><td>117000</td></tr><tr><td>Data Scientist</td><td>43064</td></tr><tr><td>Data Analyst</td><td>109900</td></tr><tr><td>Data Scientist</td><td>156450</td></tr><tr><td>Data Scientist</td><td>197000</td></tr><tr><td>Data Scientist</td><td>71259</td></tr><tr><td>Data Scientist</td><td>285000</td></tr><tr><td>Data Scientist</td><td>39925</td></tr><tr><td>Data Scientist</td><td>86000</td></tr><tr><td>Data Analyst</td><td>59500</td></tr><tr><td>Data Scientist</td><td>174000</td></tr><tr><td>Data Scientist</td><td>102200</td></tr><tr><td>Data Scientist</td><td>67597</td></tr><tr><td>Data Scientist</td><td>131200</td></tr><tr><td>Data Analyst</td><td>40000</td></tr><tr><td>Data Scientist</td><td>200160</td></tr><tr><td>Data Analyst</td><td>86500</td></tr><tr><td>Data Analyst</td><td>73824</td></tr><tr><td>Data Analyst</td><td>120600</td></tr><tr><td>Data Scientist</td><td>186200</td></tr><tr><td>Data Scientist</td><td>258000</td></tr><tr><td>Data Scientist</td><td>73100</td></tr><tr><td>Data Scientist</td><td>115000</td></tr><tr><td>Data Analyst</td><td>116150</td></tr></tbody></table></div>"
      ]
     },
     "metadata": {
      "application/vnd.databricks.v1+output": {
       "addedWidgets": {},
       "aggData": [],
       "aggError": "",
       "aggOverflow": false,
       "aggSchema": [],
       "aggSeriesLimitReached": false,
       "aggType": "",
       "arguments": {},
       "columnCustomDisplayInfos": {},
       "data": [
        [
         "Data Scientist",
         "235000"
        ],
        [
         "Data Scientist",
         "156000"
        ],
        [
         "Data Scientist",
         "63701"
        ],
        [
         "Data Scientist",
         "90734"
        ],
        [
         "Data Scientist",
         "130000"
        ],
        [
         "Data Scientist",
         "175750"
        ],
        [
         "Data Scientist",
         "128000"
        ],
        [
         "Data Analyst",
         "122720"
        ],
        [
         "Data Scientist",
         "205150"
        ],
        [
         "Data Scientist",
         "185900"
        ],
        [
         "Data Analyst",
         "90000"
        ],
        [
         "Data Analyst",
         "170000"
        ],
        [
         "Data Scientist",
         "81536"
        ],
        [
         "Data Scientist",
         "118575"
        ],
        [
         "Data Scientist",
         "244000"
        ],
        [
         "Data Scientist",
         "265000"
        ],
        [
         "Data Analyst",
         "100895"
        ],
        [
         "Data Scientist",
         "148000"
        ],
        [
         "Data Scientist",
         "84053"
        ],
        [
         "Data Scientist",
         "58400"
        ],
        [
         "Data Analyst",
         "116700"
        ],
        [
         "Data Analyst",
         "140700"
        ],
        [
         "Data Scientist",
         "107000"
        ],
        [
         "Data Scientist",
         "159699"
        ],
        [
         "Data Scientist",
         "188200"
        ],
        [
         "Data Scientist",
         "101500"
        ],
        [
         "Data Scientist",
         "226600"
        ],
        [
         "Data Analyst",
         "68550"
        ],
        [
         "Data Scientist",
         "30000"
        ],
        [
         "Data Analyst",
         "87500"
        ],
        [
         "Data Scientist",
         "131310"
        ],
        [
         "Data Analyst",
         "139000"
        ],
        [
         "Data Analyst",
         "94600"
        ],
        [
         "Data Analyst",
         "148000"
        ],
        [
         "Data Scientist",
         "49268"
        ],
        [
         "Data Scientist",
         "137500"
        ],
        [
         "Data Analyst",
         "59000"
        ],
        [
         "Data Analyst",
         "58161"
        ],
        [
         "Data Analyst",
         "113000"
        ],
        [
         "Data Analyst",
         "385000"
        ],
        [
         "Data Scientist",
         "37825"
        ],
        [
         "Data Scientist",
         "224800"
        ],
        [
         "Data Scientist",
         "132200"
        ],
        [
         "Data Scientist",
         "136994"
        ],
        [
         "Data Analyst",
         "115500"
        ],
        [
         "Data Scientist",
         "19434"
        ],
        [
         "Data Scientist",
         "161000"
        ],
        [
         "Data Scientist",
         "111967"
        ],
        [
         "Data Scientist",
         "167500"
        ],
        [
         "Data Scientist",
         "118208"
        ],
        [
         "Data Scientist",
         "157750"
        ],
        [
         "Data Analyst",
         "79976"
        ],
        [
         "Data Scientist",
         "183310"
        ],
        [
         "Data Scientist",
         "191475"
        ],
        [
         "Data Scientist",
         "174250"
        ],
        [
         "Data Scientist",
         "228856"
        ],
        [
         "Data Scientist",
         "120096"
        ],
        [
         "Data Analyst",
         "74800"
        ],
        [
         "Data Scientist",
         "197600"
        ],
        [
         "Data Scientist",
         "115360"
        ],
        [
         "Data Analyst",
         "170500"
        ],
        [
         "Data Scientist",
         "31310"
        ],
        [
         "Data Analyst",
         "145640"
        ],
        [
         "Data Scientist",
         "114000"
        ],
        [
         "Data Scientist",
         "218213"
        ],
        [
         "Data Analyst",
         "201000"
        ],
        [
         "Data Analyst",
         "136600"
        ],
        [
         "Data Scientist",
         "253000"
        ],
        [
         "Data Scientist",
         "146000"
        ],
        [
         "Data Scientist",
         "127300"
        ],
        [
         "Data Scientist",
         "140000"
        ],
        [
         "Data Scientist",
         "280000"
        ],
        [
         "Data Analyst",
         "132500"
        ],
        [
         "Data Scientist",
         "126000"
        ],
        [
         "Data Scientist",
         "278700"
        ],
        [
         "Data Analyst",
         "94400"
        ],
        [
         "Data Scientist",
         "43096"
        ],
        [
         "Data Scientist",
         "412000"
        ],
        [
         "Data Analyst",
         "185000"
        ],
        [
         "Data Scientist",
         "172100"
        ],
        [
         "Data Scientist",
         "140100"
        ],
        [
         "Data Scientist",
         "231000"
        ],
        [
         "Data Analyst",
         "202800"
        ],
        [
         "Data Scientist",
         "106200"
        ],
        [
         "Data Analyst",
         "63600"
        ],
        [
         "Data Analyst",
         "106400"
        ],
        [
         "Data Scientist",
         "181500"
        ],
        [
         "Data Scientist",
         "167310"
        ],
        [
         "Data Scientist",
         "350000"
        ],
        [
         "Data Analyst",
         "150075"
        ],
        [
         "Data Scientist",
         "86193"
        ],
        [
         "Data Scientist",
         "150000"
        ],
        [
         "Data Scientist",
         "232200"
        ],
        [
         "Data Scientist",
         "205500"
        ],
        [
         "Data Analyst",
         "126000"
        ],
        [
         "Data Analyst",
         "97750"
        ],
        [
         "Data Scientist",
         "224000"
        ],
        [
         "Data Analyst",
         "15000"
        ],
        [
         "Data Scientist",
         "203000"
        ],
        [
         "Data Scientist",
         "96313"
        ],
        [
         "Data Scientist",
         "214500"
        ],
        [
         "Data Scientist",
         "207000"
        ],
        [
         "Data Scientist",
         "110736"
        ],
        [
         "Data Scientist",
         "166000"
        ],
        [
         "Data Scientist",
         "58300"
        ],
        [
         "Data Scientist",
         "153000"
        ],
        [
         "Data Analyst",
         "127075"
        ],
        [
         "Data Scientist",
         "153400"
        ],
        [
         "Data Scientist",
         "184184"
        ],
        [
         "Data Scientist",
         "37824"
        ],
        [
         "Data Scientist",
         "61467"
        ],
        [
         "Data Scientist",
         "93300"
        ],
        [
         "Data Analyst",
         "70600"
        ],
        [
         "Data Scientist",
         "167560"
        ],
        [
         "Data Analyst",
         "166500"
        ],
        [
         "Data Scientist",
         "169000"
        ],
        [
         "Data Scientist",
         "142436"
        ],
        [
         "Data Analyst",
         "95000"
        ],
        [
         "Data Analyst",
         "120000"
        ],
        [
         "Data Analyst",
         "212000"
        ],
        [
         "Data Scientist",
         "53984"
        ],
        [
         "Data Scientist",
         "107682"
        ],
        [
         "Data Scientist",
         "280889"
        ],
        [
         "Data Scientist",
         "324000"
        ],
        [
         "Data Analyst",
         "213210"
        ],
        [
         "Data Scientist",
         "162500"
        ],
        [
         "Data Analyst",
         "123648"
        ],
        [
         "Data Analyst",
         "88200"
        ],
        [
         "Data Scientist",
         "127000"
        ],
        [
         "Data Analyst",
         "98000"
        ],
        [
         "Data Analyst",
         "131712"
        ],
        [
         "Data Scientist",
         "82254"
        ],
        [
         "Data Scientist",
         "159200"
        ],
        [
         "Data Scientist",
         "187415"
        ],
        [
         "Data Scientist",
         "91000"
        ],
        [
         "Data Scientist",
         "108800"
        ],
        [
         "Data Analyst",
         "62500"
        ],
        [
         "Data Scientist",
         "233300"
        ],
        [
         "Data Scientist",
         "98432"
        ],
        [
         "Data Analyst",
         "110000"
        ],
        [
         "Data Analyst",
         "176000"
        ],
        [
         "Data Scientist",
         "216800"
        ],
        [
         "Data Scientist",
         "106800"
        ],
        [
         "Data Analyst",
         "69525"
        ],
        [
         "Data Scientist",
         "124234"
        ],
        [
         "Data Analyst",
         "109280"
        ],
        [
         "Data Scientist",
         "187259"
        ],
        [
         "Data Analyst",
         "98873"
        ],
        [
         "Data Scientist",
         "262000"
        ],
        [
         "Data Analyst",
         "149500"
        ],
        [
         "Data Analyst",
         "108000"
        ],
        [
         "Data Scientist",
         "143250"
        ],
        [
         "Data Analyst",
         "227000"
        ],
        [
         "Data Scientist",
         "52008"
        ],
        [
         "Data Scientist",
         "46809"
        ],
        [
         "Data Analyst",
         "185100"
        ],
        [
         "Data Scientist",
         "186300"
        ],
        [
         "Data Scientist",
         "204100"
        ],
        [
         "Data Analyst",
         "36912"
        ],
        [
         "Data Analyst",
         "121000"
        ],
        [
         "Data Scientist",
         "285800"
        ],
        [
         "Data Analyst",
         "179975"
        ],
        [
         "Data Scientist",
         "21669"
        ],
        [
         "Data Scientist",
         "139000"
        ],
        [
         "Data Scientist",
         "180250"
        ],
        [
         "Data Analyst",
         "149000"
        ],
        [
         "Data Analyst",
         "142000"
        ],
        [
         "Data Scientist",
         "176000"
        ],
        [
         "Data Scientist",
         "108000"
        ],
        [
         "Data Scientist",
         "185400"
        ],
        [
         "Data Analyst",
         "61200"
        ],
        [
         "Data Analyst",
         "111151"
        ],
        [
         "Data Scientist",
         "249500"
        ],
        [
         "Data Analyst",
         "128875"
        ],
        [
         "Data Analyst",
         "50432"
        ],
        [
         "Data Scientist",
         "131100"
        ],
        [
         "Data Analyst",
         "157500"
        ],
        [
         "Data Scientist",
         "143750"
        ],
        [
         "Data Scientist",
         "290000"
        ],
        [
         "Data Scientist",
         "141600"
        ],
        [
         "Data Scientist",
         "67672"
        ],
        [
         "Data Analyst",
         "125404"
        ],
        [
         "Data Scientist",
         "87738"
        ],
        [
         "Data Scientist",
         "223400"
        ],
        [
         "Data Analyst",
         "92000"
        ],
        [
         "Data Analyst",
         "127000"
        ],
        [
         "Data Scientist",
         "38000"
        ],
        [
         "Data Analyst",
         "216200"
        ],
        [
         "Data Scientist",
         "115573"
        ],
        [
         "Data Analyst",
         "230000"
        ],
        [
         "Data Analyst",
         "30000"
        ],
        [
         "Data Scientist",
         "84000"
        ],
        [
         "Data Analyst",
         "58400"
        ],
        [
         "Data Scientist",
         "156100"
        ],
        [
         "Data Scientist",
         "130900"
        ],
        [
         "Data Scientist",
         "184000"
        ],
        [
         "Data Scientist",
         "256000"
        ],
        [
         "Data Scientist",
         "236900"
        ],
        [
         "Data Scientist",
         "133000"
        ],
        [
         "Data Scientist",
         "57872"
        ],
        [
         "Data Scientist",
         "138600"
        ],
        [
         "Data Analyst",
         "115950"
        ],
        [
         "Data Analyst",
         "43064"
        ],
        [
         "Data Scientist",
         "50745"
        ],
        [
         "Data Scientist",
         "148750"
        ],
        [
         "Data Analyst",
         "100500"
        ],
        [
         "Data Scientist",
         "48585"
        ],
        [
         "Data Scientist",
         "151300"
        ],
        [
         "Data Analyst",
         "136505"
        ],
        [
         "Data Analyst",
         "131685"
        ],
        [
         "Data Scientist",
         "20171"
        ],
        [
         "Data Analyst",
         "75000"
        ],
        [
         "Data Scientist",
         "300000"
        ],
        [
         "Data Analyst",
         "73100"
        ],
        [
         "Data Scientist",
         "125000"
        ],
        [
         "Data Scientist",
         "55368"
        ],
        [
         "Data Analyst",
         "169000"
        ],
        [
         "Data Scientist",
         "106250"
        ],
        [
         "Data Scientist",
         "64090"
        ],
        [
         "Data Scientist",
         "73000"
        ],
        [
         "Data Analyst",
         "74400"
        ],
        [
         "Data Scientist",
         "101000"
        ],
        [
         "Data Analyst",
         "189400"
        ],
        [
         "Data Analyst",
         "236600"
        ],
        [
         "Data Scientist",
         "247600"
        ],
        [
         "Data Analyst",
         "85256"
        ],
        [
         "Data Scientist",
         "95490"
        ],
        [
         "Data Scientist",
         "71400"
        ],
        [
         "Data Scientist",
         "177300"
        ],
        [
         "Data Analyst",
         "68000"
        ],
        [
         "Data Scientist",
         "323300"
        ],
        [
         "Data Analyst",
         "141290"
        ],
        [
         "Data Analyst",
         "138800"
        ],
        [
         "Data Analyst",
         "106000"
        ],
        [
         "Data Scientist",
         "128750"
        ],
        [
         "Data Analyst",
         "72400"
        ],
        [
         "Data Analyst",
         "61800"
        ],
        [
         "Data Analyst",
         "42028"
        ],
        [
         "Data Scientist",
         "140400"
        ],
        [
         "Data Analyst",
         "58000"
        ],
        [
         "Data Analyst",
         "155000"
        ],
        [
         "Data Scientist",
         "123000"
        ],
        [
         "Data Analyst",
         "137500"
        ],
        [
         "Data Scientist",
         "51000"
        ],
        [
         "Data Scientist",
         "55000"
        ],
        [
         "Data Scientist",
         "104000"
        ],
        [
         "Data Scientist",
         "186846"
        ],
        [
         "Data Scientist",
         "268000"
        ],
        [
         "Data Analyst",
         "105320"
        ],
        [
         "Data Scientist",
         "184250"
        ],
        [
         "Data Analyst",
         "223100"
        ],
        [
         "Data Analyst",
         "136260"
        ],
        [
         "Data Scientist",
         "171000"
        ],
        [
         "Data Scientist",
         "118000"
        ],
        [
         "Data Scientist",
         "116300"
        ],
        [
         "Data Analyst",
         "78000"
        ],
        [
         "Data Scientist",
         "196000"
        ],
        [
         "Data Scientist",
         "121000"
        ],
        [
         "Data Scientist",
         "172800"
        ],
        [
         "Data Scientist",
         "150200"
        ],
        [
         "Data Scientist",
         "123040"
        ],
        [
         "Data Scientist",
         "172200"
        ],
        [
         "Data Scientist",
         "136742"
        ],
        [
         "Data Scientist",
         "172758"
        ],
        [
         "Data Analyst",
         "163800"
        ],
        [
         "Data Analyst",
         "79000"
        ],
        [
         "Data Analyst",
         "192300"
        ],
        [
         "Data Analyst",
         "122000"
        ],
        [
         "Data Scientist",
         "122500"
        ],
        [
         "Data Scientist",
         "25532"
        ],
        [
         "Data Analyst",
         "158494"
        ],
        [
         "Data Scientist",
         "92000"
        ],
        [
         "Data Scientist",
         "197400"
        ],
        [
         "Data Scientist",
         "172386"
        ],
        [
         "Data Scientist",
         "120402"
        ],
        [
         "Data Analyst",
         "112200"
        ],
        [
         "Data Scientist",
         "127950"
        ],
        [
         "Data Analyst",
         "204500"
        ],
        [
         "Data Scientist",
         "213300"
        ],
        [
         "Data Scientist",
         "222750"
        ],
        [
         "Data Analyst",
         "18160"
        ],
        [
         "Data Analyst",
         "90320"
        ],
        [
         "Data Analyst",
         "55368"
        ],
        [
         "Data Analyst",
         "57800"
        ],
        [
         "Data Analyst",
         "44294"
        ],
        [
         "Data Scientist",
         "77900"
        ],
        [
         "Data Scientist",
         "93918"
        ],
        [
         "Data Analyst",
         "106020"
        ],
        [
         "Data Scientist",
         "300240"
        ],
        [
         "Data Scientist",
         "131000"
        ],
        [
         "Data Scientist",
         "224250"
        ],
        [
         "Data Analyst",
         "103200"
        ],
        [
         "Data Analyst",
         "207300"
        ],
        [
         "Data Scientist",
         "60462"
        ],
        [
         "Data Scientist",
         "113000"
        ],
        [
         "Data Scientist",
         "158200"
        ],
        [
         "Data Scientist",
         "77684"
        ],
        [
         "Data Analyst",
         "133000"
        ],
        [
         "Data Analyst",
         "73500"
        ],
        [
         "Data Scientist",
         "206000"
        ],
        [
         "Data Scientist",
         "124000"
        ],
        [
         "Data Analyst",
         "84900"
        ],
        [
         "Data Scientist",
         "205000"
        ],
        [
         "Data Analyst",
         "94770"
        ],
        [
         "Data Analyst",
         "67500"
        ],
        [
         "Data Scientist",
         "255000"
        ],
        [
         "Data Scientist",
         "129300"
        ],
        [
         "Data Scientist",
         "172500"
        ],
        [
         "Data Analyst",
         "71615"
        ],
        [
         "Data Scientist",
         "202000"
        ],
        [
         "Data Analyst",
         "96750"
        ],
        [
         "Data Analyst",
         "41027"
        ],
        [
         "Data Analyst",
         "40400"
        ],
        [
         "Data Scientist",
         "25912"
        ],
        [
         "Data Analyst",
         "165000"
        ],
        [
         "Data Scientist",
         "165000"
        ],
        [
         "Data Scientist",
         "219000"
        ],
        [
         "Data Analyst",
         "104244"
        ],
        [
         "Data Scientist",
         "147100"
        ],
        [
         "Data Scientist",
         "182250"
        ],
        [
         "Data Analyst",
         "56100"
        ],
        [
         "Data Scientist",
         "97750"
        ],
        [
         "Data Analyst",
         "152380"
        ],
        [
         "Data Scientist",
         "54000"
        ],
        [
         "Data Scientist",
         "43187"
        ],
        [
         "Data Analyst",
         "92280"
        ],
        [
         "Data Scientist",
         "109000"
        ],
        [
         "Data Scientist",
         "260000"
        ],
        [
         "Data Scientist",
         "236500"
        ],
        [
         "Data Scientist",
         "82365"
        ],
        [
         "Data Scientist",
         "102100"
        ],
        [
         "Data Analyst",
         "70374"
        ],
        [
         "Data Scientist",
         "192351"
        ],
        [
         "Data Scientist",
         "134000"
        ],
        [
         "Data Analyst",
         "72000"
        ],
        [
         "Data Scientist",
         "59382"
        ],
        [
         "Data Analyst",
         "109000"
        ],
        [
         "Data Scientist",
         "182000"
        ],
        [
         "Data Scientist",
         "75577"
        ],
        [
         "Data Scientist",
         "236160"
        ],
        [
         "Data Analyst",
         "49216"
        ],
        [
         "Data Scientist",
         "198800"
        ],
        [
         "Data Scientist",
         "270000"
        ],
        [
         "Data Scientist",
         "240350"
        ],
        [
         "Data Analyst",
         "172000"
        ],
        [
         "Data Analyst",
         "106260"
        ],
        [
         "Data Analyst",
         "154440"
        ],
        [
         "Data Analyst",
         "153800"
        ],
        [
         "Data Analyst",
         "84000"
        ],
        [
         "Data Scientist",
         "136100"
        ],
        [
         "Data Analyst",
         "156000"
        ],
        [
         "Data Analyst",
         "118600"
        ],
        [
         "Data Scientist",
         "239000"
        ],
        [
         "Data Scientist",
         "201000"
        ],
        [
         "Data Scientist",
         "78000"
        ],
        [
         "Data Analyst",
         "85500"
        ],
        [
         "Data Analyst",
         "83000"
        ],
        [
         "Data Scientist",
         "130001"
        ],
        [
         "Data Analyst",
         "102100"
        ],
        [
         "Data Analyst",
         "85700"
        ],
        [
         "Data Scientist",
         "157500"
        ],
        [
         "Data Scientist",
         "149850"
        ],
        [
         "Data Scientist",
         "170000"
        ],
        [
         "Data Scientist",
         "94400"
        ],
        [
         "Data Scientist",
         "252000"
        ],
        [
         "Data Scientist",
         "266000"
        ],
        [
         "Data Scientist",
         "231650"
        ],
        [
         "Data Analyst",
         "65000"
        ],
        [
         "Data Analyst",
         "86000"
        ],
        [
         "Data Scientist",
         "122600"
        ],
        [
         "Data Analyst",
         "36773"
        ],
        [
         "Data Scientist",
         "184800"
        ],
        [
         "Data Analyst",
         "59400"
        ],
        [
         "Data Scientist",
         "184700"
        ],
        [
         "Data Scientist",
         "122700"
        ],
        [
         "Data Analyst",
         "147600"
        ],
        [
         "Data Analyst",
         "115934"
        ],
        [
         "Data Analyst",
         "92350"
        ],
        [
         "Data Analyst",
         "63831"
        ],
        [
         "Data Scientist",
         "204500"
        ],
        [
         "Data Scientist",
         "24000"
        ],
        [
         "Data Scientist",
         "154600"
        ],
        [
         "Data Scientist",
         "141300"
        ],
        [
         "Data Scientist",
         "49646"
        ],
        [
         "Data Scientist",
         "142500"
        ],
        [
         "Data Analyst",
         "208049"
        ],
        [
         "Data Scientist",
         "144000"
        ],
        [
         "Data Scientist",
         "250830"
        ],
        [
         "Data Scientist",
         "132500"
        ],
        [
         "Data Scientist",
         "72409"
        ],
        [
         "Data Scientist",
         "150120"
        ],
        [
         "Data Scientist",
         "138784"
        ],
        [
         "Data Scientist",
         "115440"
        ],
        [
         "Data Analyst",
         "91000"
        ],
        [
         "Data Analyst",
         "119636"
        ],
        [
         "Data Analyst",
         "130000"
        ],
        [
         "Data Scientist",
         "203500"
        ],
        [
         "Data Scientist",
         "186000"
        ],
        [
         "Data Analyst",
         "25216"
        ],
        [
         "Data Scientist",
         "131752"
        ],
        [
         "Data Scientist",
         "234000"
        ],
        [
         "Data Scientist",
         "205400"
        ],
        [
         "Data Scientist",
         "141000"
        ],
        [
         "Data Scientist",
         "239080"
        ],
        [
         "Data Scientist",
         "35000"
        ],
        [
         "Data Analyst",
         "187000"
        ],
        [
         "Data Analyst",
         "154000"
        ],
        [
         "Data Scientist",
         "187500"
        ],
        [
         "Data Scientist",
         "90000"
        ],
        [
         "Data Scientist",
         "178600"
        ],
        [
         "Data Analyst",
         "102434"
        ],
        [
         "Data Scientist",
         "154000"
        ],
        [
         "Data Analyst",
         "64000"
        ],
        [
         "Data Scientist",
         "94560"
        ],
        [
         "Data Analyst",
         "86193"
        ],
        [
         "Data Scientist",
         "198300"
        ],
        [
         "Data Analyst",
         "105500"
        ],
        [
         "Data Analyst",
         "166700"
        ],
        [
         "Data Scientist",
         "80000"
        ],
        [
         "Data Analyst",
         "94000"
        ],
        [
         "Data Analyst",
         "83500"
        ],
        [
         "Data Scientist",
         "258700"
        ],
        [
         "Data Analyst",
         "111000"
        ],
        [
         "Data Analyst",
         "96800"
        ],
        [
         "Data Scientist",
         "165220"
        ],
        [
         "Data Scientist",
         "38776"
        ],
        [
         "Data Scientist",
         "198200"
        ],
        [
         "Data Scientist",
         "138900"
        ],
        [
         "Data Scientist",
         "253430"
        ],
        [
         "Data Scientist",
         "267100"
        ],
        [
         "Data Scientist",
         "86128"
        ],
        [
         "Data Scientist",
         "119000"
        ],
        [
         "Data Scientist",
         "110250"
        ],
        [
         "Data Analyst",
         "164000"
        ],
        [
         "Data Scientist",
         "85600"
        ],
        [
         "Data Scientist",
         "61699"
        ],
        [
         "Data Scientist",
         "126500"
        ],
        [
         "Data Analyst",
         "180400"
        ],
        [
         "Data Scientist",
         "191765"
        ],
        [
         "Data Analyst",
         "182500"
        ],
        [
         "Data Scientist",
         "19910"
        ],
        [
         "Data Analyst",
         "56143"
        ],
        [
         "Data Scientist",
         "61566"
        ],
        [
         "Data Scientist",
         "56256"
        ],
        [
         "Data Scientist",
         "144500"
        ],
        [
         "Data Analyst",
         "81800"
        ],
        [
         "Data Analyst",
         "129150"
        ],
        [
         "Data Scientist",
         "249600"
        ],
        [
         "Data Scientist",
         "212750"
        ],
        [
         "Data Scientist",
         "82920"
        ],
        [
         "Data Scientist",
         "120250"
        ],
        [
         "Data Scientist",
         "116000"
        ],
        [
         "Data Scientist",
         "159408"
        ],
        [
         "Data Scientist",
         "175000"
        ],
        [
         "Data Scientist",
         "158677"
        ],
        [
         "Data Analyst",
         "430967"
        ],
        [
         "Data Scientist",
         "243900"
        ],
        [
         "Data Analyst",
         "143520"
        ],
        [
         "Data Scientist",
         "138938"
        ],
        [
         "Data Scientist",
         "25000"
        ],
        [
         "Data Analyst",
         "61300"
        ],
        [
         "Data Scientist",
         "210400"
        ],
        [
         "Data Scientist",
         "119200"
        ],
        [
         "Data Analyst",
         "93400"
        ],
        [
         "Data Scientist",
         "254000"
        ],
        [
         "Data Scientist",
         "167850"
        ],
        [
         "Data Analyst",
         "88052"
        ],
        [
         "Data Analyst",
         "72500"
        ],
        [
         "Data Scientist",
         "159300"
        ],
        [
         "Data Scientist",
         "49216"
        ],
        [
         "Data Scientist",
         "86700"
        ],
        [
         "Data Scientist",
         "183924"
        ],
        [
         "Data Scientist",
         "123900"
        ],
        [
         "Data Analyst",
         "99750"
        ],
        [
         "Data Analyst",
         "66691"
        ],
        [
         "Data Scientist",
         "178538"
        ],
        [
         "Data Scientist",
         "212780"
        ],
        [
         "Data Scientist",
         "166500"
        ],
        [
         "Data Analyst",
         "146200"
        ],
        [
         "Data Scientist",
         "205485"
        ],
        [
         "Data Analyst",
         "123400"
        ],
        [
         "Data Scientist",
         "92350"
        ],
        [
         "Data Scientist",
         "198440"
        ],
        [
         "Data Scientist",
         "123400"
        ],
        [
         "Data Scientist",
         "147000"
        ],
        [
         "Data Scientist",
         "190000"
        ],
        [
         "Data Analyst",
         "78400"
        ],
        [
         "Data Analyst",
         "52000"
        ],
        [
         "Data Scientist",
         "182750"
        ],
        [
         "Data Scientist",
         "101570"
        ],
        [
         "Data Scientist",
         "155000"
        ],
        [
         "Data Analyst",
         "81500"
        ],
        [
         "Data Scientist",
         "104650"
        ],
        [
         "Data Analyst",
         "144000"
        ],
        [
         "Data Scientist",
         "218500"
        ],
        [
         "Data Analyst",
         "46755"
        ],
        [
         "Data Analyst",
         "99450"
        ],
        [
         "Data Scientist",
         "172900"
        ],
        [
         "Data Scientist",
         "208400"
        ],
        [
         "Data Analyst",
         "98432"
        ],
        [
         "Data Analyst",
         "34320"
        ],
        [
         "Data Analyst",
         "93800"
        ],
        [
         "Data Scientist",
         "94100"
        ],
        [
         "Data Scientist",
         "173200"
        ],
        [
         "Data Analyst",
         "131000"
        ],
        [
         "Data Analyst",
         "60000"
        ],
        [
         "Data Scientist",
         "239748"
        ],
        [
         "Data Analyst",
         "180180"
        ],
        [
         "Data Analyst",
         "93700"
        ],
        [
         "Data Scientist",
         "120000"
        ],
        [
         "Data Scientist",
         "170500"
        ],
        [
         "Data Analyst",
         "84400"
        ],
        [
         "Data Analyst",
         "93000"
        ],
        [
         "Data Scientist",
         "149076"
        ],
        [
         "Data Analyst",
         "73000"
        ],
        [
         "Data Analyst",
         "145500"
        ],
        [
         "Data Scientist",
         "34924"
        ],
        [
         "Data Scientist",
         "209300"
        ],
        [
         "Data Analyst",
         "86720"
        ],
        [
         "Data Scientist",
         "115920"
        ],
        [
         "Data Scientist",
         "130240"
        ],
        [
         "Data Analyst",
         "61566"
        ],
        [
         "Data Scientist",
         "200000"
        ],
        [
         "Data Scientist",
         "134960"
        ],
        [
         "Data Scientist",
         "228000"
        ],
        [
         "Data Analyst",
         "89100"
        ],
        [
         "Data Scientist",
         "77791"
        ],
        [
         "Data Scientist",
         "50000"
        ],
        [
         "Data Scientist",
         "83171"
        ],
        [
         "Data Scientist",
         "103691"
        ],
        [
         "Data Scientist",
         "159100"
        ],
        [
         "Data Scientist",
         "237000"
        ],
        [
         "Data Scientist",
         "145000"
        ],
        [
         "Data Scientist",
         "275500"
        ],
        [
         "Data Analyst",
         "138860"
        ],
        [
         "Data Scientist",
         "151410"
        ],
        [
         "Data Scientist",
         "33246"
        ],
        [
         "Data Scientist",
         "68428"
        ],
        [
         "Data Analyst",
         "102000"
        ],
        [
         "Data Analyst",
         "22809"
        ],
        [
         "Data Scientist",
         "99360"
        ],
        [
         "Data Scientist",
         "138700"
        ],
        [
         "Data Analyst",
         "102640"
        ],
        [
         "Data Analyst",
         "55410"
        ],
        [
         "Data Scientist",
         "93000"
        ],
        [
         "Data Analyst",
         "28368"
        ],
        [
         "Data Scientist",
         "98506"
        ],
        [
         "Data Analyst",
         "36000"
        ],
        [
         "Data Scientist",
         "125760"
        ],
        [
         "Data Analyst",
         "97500"
        ],
        [
         "Data Analyst",
         "71786"
        ],
        [
         "Data Scientist",
         "38868"
        ],
        [
         "Data Scientist",
         "143100"
        ],
        [
         "Data Scientist",
         "85000"
        ],
        [
         "Data Scientist",
         "95100"
        ],
        [
         "Data Scientist",
         "159375"
        ],
        [
         "Data Analyst",
         "33686"
        ],
        [
         "Data Analyst",
         "161500"
        ],
        [
         "Data Scientist",
         "158500"
        ],
        [
         "Data Scientist",
         "115500"
        ],
        [
         "Data Scientist",
         "195000"
        ],
        [
         "Data Analyst",
         "138000"
        ],
        [
         "Data Scientist",
         "80976"
        ],
        [
         "Data Scientist",
         "151800"
        ],
        [
         "Data Analyst",
         "125000"
        ],
        [
         "Data Analyst",
         "121904"
        ],
        [
         "Data Analyst",
         "66100"
        ],
        [
         "Data Scientist",
         "168800"
        ],
        [
         "Data Scientist",
         "316000"
        ],
        [
         "Data Analyst",
         "112000"
        ],
        [
         "Data Scientist",
         "148800"
        ],
        [
         "Data Analyst",
         "74178"
        ],
        [
         "Data Analyst",
         "50000"
        ],
        [
         "Data Scientist",
         "154800"
        ],
        [
         "Data Analyst",
         "192000"
        ],
        [
         "Data Scientist",
         "112500"
        ],
        [
         "Data Analyst",
         "161000"
        ],
        [
         "Data Scientist",
         "199098"
        ],
        [
         "Data Scientist",
         "272550"
        ],
        [
         "Data Scientist",
         "130500"
        ],
        [
         "Data Analyst",
         "124000"
        ],
        [
         "Data Scientist",
         "275300"
        ],
        [
         "Data Analyst",
         "48000"
        ],
        [
         "Data Analyst",
         "94035"
        ],
        [
         "Data Analyst",
         "190000"
        ],
        [
         "Data Scientist",
         "111600"
        ],
        [
         "Data Analyst",
         "117500"
        ],
        [
         "Data Analyst",
         "110736"
        ],
        [
         "Data Analyst",
         "42107"
        ],
        [
         "Data Scientist",
         "122000"
        ],
        [
         "Data Scientist",
         "140250"
        ],
        [
         "Data Scientist",
         "77737"
        ],
        [
         "Data Analyst",
         "99050"
        ],
        [
         "Data Scientist",
         "297300"
        ],
        [
         "Data Analyst",
         "171000"
        ],
        [
         "Data Scientist",
         "225300"
        ],
        [
         "Data Scientist",
         "126900"
        ],
        [
         "Data Analyst",
         "119610"
        ],
        [
         "Data Analyst",
         "94100"
        ],
        [
         "Data Scientist",
         "185000"
        ],
        [
         "Data Analyst",
         "134200"
        ],
        [
         "Data Scientist",
         "201650"
        ],
        [
         "Data Scientist",
         "223800"
        ],
        [
         "Data Scientist",
         "154700"
        ],
        [
         "Data Scientist",
         "16000"
        ],
        [
         "Data Analyst",
         "149200"
        ],
        [
         "Data Analyst",
         "121700"
        ],
        [
         "Data Scientist",
         "216100"
        ],
        [
         "Data Scientist",
         "110820"
        ],
        [
         "Data Scientist",
         "190200"
        ],
        [
         "Data Analyst",
         "105200"
        ],
        [
         "Data Scientist",
         "104300"
        ],
        [
         "Data Scientist",
         "53192"
        ],
        [
         "Data Scientist",
         "144540"
        ],
        [
         "Data Analyst",
         "120250"
        ],
        [
         "Data Analyst",
         "208450"
        ],
        [
         "Data Scientist",
         "317070"
        ],
        [
         "Data Scientist",
         "72700"
        ],
        [
         "Data Scientist",
         "226000"
        ],
        [
         "Data Scientist",
         "116990"
        ],
        [
         "Data Scientist",
         "140800"
        ],
        [
         "Data Analyst",
         "89200"
        ],
        [
         "Data Scientist",
         "60938"
        ],
        [
         "Data Analyst",
         "175950"
        ],
        [
         "Data Scientist",
         "171250"
        ],
        [
         "Data Scientist",
         "97171"
        ],
        [
         "Data Scientist",
         "156600"
        ],
        [
         "Data Scientist",
         "48000"
        ],
        [
         "Data Scientist",
         "82500"
        ],
        [
         "Data Scientist",
         "65000"
        ],
        [
         "Data Scientist",
         "194500"
        ],
        [
         "Data Scientist",
         "142200"
        ],
        [
         "Data Analyst",
         "172800"
        ],
        [
         "Data Analyst",
         "113600"
        ],
        [
         "Data Analyst",
         "147000"
        ],
        [
         "Data Analyst",
         "104300"
        ],
        [
         "Data Scientist",
         "36643"
        ],
        [
         "Data Scientist",
         "162000"
        ],
        [
         "Data Analyst",
         "46426"
        ],
        [
         "Data Scientist",
         "78125"
        ],
        [
         "Data Scientist",
         "258750"
        ],
        [
         "Data Analyst",
         "62000"
        ],
        [
         "Data Scientist",
         "140700"
        ],
        [
         "Data Scientist",
         "247500"
        ],
        [
         "Data Scientist",
         "144200"
        ],
        [
         "Data Scientist",
         "170625"
        ],
        [
         "Data Analyst",
         "95040"
        ],
        [
         "Data Analyst",
         "195000"
        ],
        [
         "Data Analyst",
         "136000"
        ],
        [
         "Data Scientist",
         "181000"
        ],
        [
         "Data Scientist",
         "151000"
        ],
        [
         "Data Scientist",
         "73546"
        ],
        [
         "Data Analyst",
         "120350"
        ],
        [
         "Data Scientist",
         "295000"
        ],
        [
         "Data Scientist",
         "88600"
        ],
        [
         "Data Scientist",
         "122900"
        ],
        [
         "Data Analyst",
         "148500"
        ],
        [
         "Data Analyst",
         "70186"
        ],
        [
         "Data Scientist",
         "64781"
        ],
        [
         "Data Analyst",
         "51962"
        ],
        [
         "Data Analyst",
         "139600"
        ],
        [
         "Data Analyst",
         "153300"
        ],
        [
         "Data Scientist",
         "122200"
        ],
        [
         "Data Scientist",
         "277300"
        ],
        [
         "Data Analyst",
         "206000"
        ],
        [
         "Data Scientist",
         "183000"
        ],
        [
         "Data Scientist",
         "201036"
        ],
        [
         "Data Scientist",
         "161500"
        ],
        [
         "Data Analyst",
         "130050"
        ],
        [
         "Data Scientist",
         "82000"
        ],
        [
         "Data Scientist",
         "88654"
        ],
        [
         "Data Analyst",
         "140130"
        ],
        [
         "Data Scientist",
         "204000"
        ],
        [
         "Data Scientist",
         "118720"
        ],
        [
         "Data Scientist",
         "222800"
        ],
        [
         "Data Scientist",
         "277500"
        ],
        [
         "Data Scientist",
         "51861"
        ],
        [
         "Data Scientist",
         "91237"
        ],
        [
         "Data Scientist",
         "180000"
        ],
        [
         "Data Scientist",
         "227000"
        ],
        [
         "Data Scientist",
         "370000"
        ],
        [
         "Data Analyst",
         "40747"
        ],
        [
         "Data Analyst",
         "59382"
        ],
        [
         "Data Analyst",
         "47899"
        ],
        [
         "Data Scientist",
         "76958"
        ],
        [
         "Data Analyst",
         "164640"
        ],
        [
         "Data Scientist",
         "156400"
        ],
        [
         "Data Scientist",
         "310270"
        ],
        [
         "Data Analyst",
         "101500"
        ],
        [
         "Data Analyst",
         "168400"
        ],
        [
         "Data Scientist",
         "133200"
        ],
        [
         "Data Analyst",
         "96000"
        ],
        [
         "Data Analyst",
         "67672"
        ],
        [
         "Data Scientist",
         "242000"
        ],
        [
         "Data Analyst",
         "69570"
        ],
        [
         "Data Scientist",
         "230000"
        ],
        [
         "Data Scientist",
         "40423"
        ],
        [
         "Data Scientist",
         "207900"
        ],
        [
         "Data Scientist",
         "143370"
        ],
        [
         "Data Scientist",
         "213654"
        ],
        [
         "Data Scientist",
         "51962"
        ],
        [
         "Data Scientist",
         "74540"
        ],
        [
         "Data Analyst",
         "143000"
        ],
        [
         "Data Scientist",
         "160800"
        ],
        [
         "Data Analyst",
         "207611"
        ],
        [
         "Data Analyst",
         "87000"
        ],
        [
         "Data Analyst",
         "65257"
        ],
        [
         "Data Analyst",
         "182000"
        ],
        [
         "Data Scientist",
         "122638"
        ],
        [
         "Data Scientist",
         "177500"
        ],
        [
         "Data Scientist",
         "119213"
        ],
        [
         "Data Analyst",
         "138900"
        ],
        [
         "Data Analyst",
         "44356"
        ],
        [
         "Data Scientist",
         "119059"
        ],
        [
         "Data Scientist",
         "225000"
        ],
        [
         "Data Analyst",
         "157000"
        ],
        [
         "Data Analyst",
         "46500"
        ],
        [
         "Data Analyst",
         "131650"
        ],
        [
         "Data Analyst",
         "132000"
        ],
        [
         "Data Scientist",
         "55410"
        ],
        [
         "Data Analyst",
         "69000"
        ],
        [
         "Data Scientist",
         "307100"
        ],
        [
         "Data Scientist",
         "147500"
        ],
        [
         "Data Analyst",
         "81900"
        ],
        [
         "Data Scientist",
         "100000"
        ],
        [
         "Data Analyst",
         "70000"
        ],
        [
         "Data Scientist",
         "222000"
        ],
        [
         "Data Scientist",
         "42197"
        ],
        [
         "Data Analyst",
         "82500"
        ],
        [
         "Data Analyst",
         "65300"
        ],
        [
         "Data Scientist",
         "257000"
        ],
        [
         "Data Analyst",
         "132600"
        ],
        [
         "Data Analyst",
         "64500"
        ],
        [
         "Data Scientist",
         "104890"
        ],
        [
         "Data Scientist",
         "100400"
        ],
        [
         "Data Scientist",
         "138510"
        ],
        [
         "Data Scientist",
         "169500"
        ],
        [
         "Data Scientist",
         "260600"
        ],
        [
         "Data Analyst",
         "168000"
        ],
        [
         "Data Scientist",
         "223290"
        ],
        [
         "Data Analyst",
         "113220"
        ],
        [
         "Data Analyst",
         "146190"
        ],
        [
         "Data Analyst",
         "105380"
        ],
        [
         "Data Analyst",
         "106300"
        ],
        [
         "Data Analyst",
         "280000"
        ],
        [
         "Data Scientist",
         "157000"
        ],
        [
         "Data Scientist",
         "233200"
        ],
        [
         "Data Scientist",
         "116914"
        ],
        [
         "Data Analyst",
         "250000"
        ],
        [
         "Data Scientist",
         "132000"
        ],
        [
         "Data Scientist",
         "136000"
        ],
        [
         "Data Analyst",
         "180000"
        ],
        [
         "Data Scientist",
         "228045"
        ],
        [
         "Data Scientist",
         "32390"
        ],
        [
         "Data Analyst",
         "153600"
        ],
        [
         "Data Scientist",
         "93800"
        ],
        [
         "Data Scientist",
         "121550"
        ],
        [
         "Data Scientist",
         "231250"
        ],
        [
         "Data Scientist",
         "189100"
        ],
        [
         "Data Analyst",
         "67000"
        ],
        [
         "Data Scientist",
         "214872"
        ],
        [
         "Data Analyst",
         "119000"
        ],
        [
         "Data Scientist",
         "188000"
        ],
        [
         "Data Scientist",
         "147400"
        ],
        [
         "Data Analyst",
         "229000"
        ],
        [
         "Data Analyst",
         "107500"
        ],
        [
         "Data Scientist",
         "174800"
        ],
        [
         "Data Scientist",
         "141525"
        ],
        [
         "Data Analyst",
         "105000"
        ],
        [
         "Data Analyst",
         "122500"
        ],
        [
         "Data Analyst",
         "93500"
        ],
        [
         "Data Analyst",
         "70900"
        ],
        [
         "Data Scientist",
         "272290"
        ],
        [
         "Data Analyst",
         "72250"
        ],
        [
         "Data Scientist",
         "62726"
        ],
        [
         "Data Analyst",
         "158000"
        ],
        [
         "Data Analyst",
         "192500"
        ],
        [
         "Data Scientist",
         "225100"
        ],
        [
         "Data Scientist",
         "140900"
        ],
        [
         "Data Analyst",
         "118000"
        ],
        [
         "Data Analyst",
         "134000"
        ],
        [
         "Data Analyst",
         "154560"
        ],
        [
         "Data Scientist",
         "245000"
        ],
        [
         "Data Analyst",
         "48585"
        ],
        [
         "Data Scientist",
         "209450"
        ],
        [
         "Data Scientist",
         "113750"
        ],
        [
         "Data Scientist",
         "212800"
        ],
        [
         "Data Analyst",
         "133300"
        ],
        [
         "Data Analyst",
         "138240"
        ],
        [
         "Data Scientist",
         "71907"
        ],
        [
         "Data Scientist",
         "173000"
        ],
        [
         "Data Analyst",
         "51824"
        ],
        [
         "Data Scientist",
         "31520"
        ],
        [
         "Data Scientist",
         "329700"
        ],
        [
         "Data Scientist",
         "118900"
        ],
        [
         "Data Scientist",
         "167200"
        ],
        [
         "Data Analyst",
         "102500"
        ],
        [
         "Data Scientist",
         "135000"
        ],
        [
         "Data Scientist",
         "153300"
        ],
        [
         "Data Scientist",
         "211500"
        ],
        [
         "Data Analyst",
         "177000"
        ],
        [
         "Data Analyst",
         "129000"
        ],
        [
         "Data Scientist",
         "248100"
        ],
        [
         "Data Scientist",
         "178000"
        ],
        [
         "Data Scientist",
         "183500"
        ],
        [
         "Data Scientist",
         "183200"
        ],
        [
         "Data Scientist",
         "79350"
        ],
        [
         "Data Analyst",
         "99000"
        ],
        [
         "Data Analyst",
         "100000"
        ],
        [
         "Data Scientist",
         "139500"
        ],
        [
         "Data Scientist",
         "199000"
        ],
        [
         "Data Analyst",
         "142500"
        ],
        [
         "Data Analyst",
         "167000"
        ],
        [
         "Data Analyst",
         "95400"
        ],
        [
         "Data Scientist",
         "107400"
        ],
        [
         "Data Scientist",
         "155500"
        ],
        [
         "Data Analyst",
         "110600"
        ],
        [
         "Data Analyst",
         "131325"
        ],
        [
         "Data Scientist",
         "120160"
        ],
        [
         "Data Scientist",
         "40000"
        ],
        [
         "Data Scientist",
         "36940"
        ],
        [
         "Data Scientist",
         "79833"
        ],
        [
         "Data Scientist",
         "81500"
        ],
        [
         "Data Scientist",
         "90700"
        ],
        [
         "Data Scientist",
         "187000"
        ],
        [
         "Data Analyst",
         "186600"
        ],
        [
         "Data Scientist",
         "173175"
        ],
        [
         "Data Scientist",
         "235750"
        ],
        [
         "Data Analyst",
         "150000"
        ],
        [
         "Data Scientist",
         "189750"
        ],
        [
         "Data Scientist",
         "39916"
        ],
        [
         "Data Scientist",
         "208500"
        ],
        [
         "Data Analyst",
         "115000"
        ],
        [
         "Data Scientist",
         "92280"
        ],
        [
         "Data Analyst",
         "114700"
        ],
        [
         "Data Scientist",
         "202800"
        ],
        [
         "Data Scientist",
         "172256"
        ],
        [
         "Data Scientist",
         "208000"
        ],
        [
         "Data Scientist",
         "134236"
        ],
        [
         "Data Scientist",
         "359170"
        ],
        [
         "Data Scientist",
         "156560"
        ],
        [
         "Data Scientist",
         "149500"
        ],
        [
         "Data Analyst",
         "83700"
        ],
        [
         "Data Scientist",
         "54634"
        ],
        [
         "Data Scientist",
         "136620"
        ],
        [
         "Data Analyst",
         "93919"
        ],
        [
         "Data Scientist",
         "76300"
        ],
        [
         "Data Scientist",
         "135344"
        ],
        [
         "Data Analyst",
         "53120"
        ],
        [
         "Data Scientist",
         "150931"
        ],
        [
         "Data Scientist",
         "51676"
        ],
        [
         "Data Scientist",
         "36912"
        ],
        [
         "Data Analyst",
         "49000"
        ],
        [
         "Data Scientist",
         "138000"
        ],
        [
         "Data Analyst",
         "119500"
        ],
        [
         "Data Analyst",
         "124190"
        ],
        [
         "Data Analyst",
         "32974"
        ],
        [
         "Data Scientist",
         "215000"
        ],
        [
         "Data Scientist",
         "153600"
        ],
        [
         "Data Scientist",
         "120681"
        ],
        [
         "Data Scientist",
         "215050"
        ],
        [
         "Data Scientist",
         "180560"
        ],
        [
         "Data Scientist",
         "205300"
        ],
        [
         "Data Analyst",
         "145000"
        ],
        [
         "Data Scientist",
         "183900"
        ],
        [
         "Data Scientist",
         "73824"
        ],
        [
         "Data Analyst",
         "59102"
        ],
        [
         "Data Scientist",
         "210000"
        ],
        [
         "Data Analyst",
         "85000"
        ],
        [
         "Data Analyst",
         "43187"
        ],
        [
         "Data Scientist",
         "281000"
        ],
        [
         "Data Scientist",
         "47280"
        ],
        [
         "Data Scientist",
         "110000"
        ],
        [
         "Data Analyst",
         "193000"
        ],
        [
         "Data Scientist",
         "133300"
        ],
        [
         "Data Analyst",
         "38868"
        ],
        [
         "Data Analyst",
         "126277"
        ],
        [
         "Data Scientist",
         "299500"
        ],
        [
         "Data Analyst",
         "112900"
        ],
        [
         "Data Analyst",
         "200000"
        ],
        [
         "Data Scientist",
         "105200"
        ],
        [
         "Data Scientist",
         "142000"
        ],
        [
         "Data Scientist",
         "92900"
        ],
        [
         "Data Scientist",
         "161900"
        ],
        [
         "Data Scientist",
         "227240"
        ],
        [
         "Data Analyst",
         "121500"
        ],
        [
         "Data Analyst",
         "240500"
        ],
        [
         "Data Analyst",
         "68400"
        ],
        [
         "Data Scientist",
         "145300"
        ],
        [
         "Data Analyst",
         "84870"
        ],
        [
         "Data Scientist",
         "164000"
        ],
        [
         "Data Analyst",
         "127876"
        ],
        [
         "Data Analyst",
         "206500"
        ],
        [
         "Data Scientist",
         "73742"
        ],
        [
         "Data Scientist",
         "33609"
        ],
        [
         "Data Analyst",
         "137000"
        ],
        [
         "Data Scientist",
         "160000"
        ],
        [
         "Data Analyst",
         "128000"
        ],
        [
         "Data Scientist",
         "308000"
        ],
        [
         "Data Analyst",
         "61520"
        ],
        [
         "Data Scientist",
         "240000"
        ],
        [
         "Data Scientist",
         "182200"
        ],
        [
         "Data Scientist",
         "88100"
        ],
        [
         "Data Scientist",
         "138350"
        ],
        [
         "Data Scientist",
         "177000"
        ],
        [
         "Data Scientist",
         "218000"
        ],
        [
         "Data Scientist",
         "102500"
        ],
        [
         "Data Analyst",
         "49253"
        ],
        [
         "Data Scientist",
         "145900"
        ],
        [
         "Data Analyst",
         "154500"
        ],
        [
         "Data Scientist",
         "48915"
        ],
        [
         "Data Analyst",
         "41833"
        ],
        [
         "Data Scientist",
         "114080"
        ],
        [
         "Data Analyst",
         "140000"
        ],
        [
         "Data Analyst",
         "64200"
        ],
        [
         "Data Analyst",
         "86466"
        ],
        [
         "Data Scientist",
         "179400"
        ],
        [
         "Data Scientist",
         "119300"
        ],
        [
         "Data Scientist",
         "297000"
        ],
        [
         "Data Scientist",
         "61520"
        ],
        [
         "Data Analyst",
         "81666"
        ],
        [
         "Data Analyst",
         "185900"
        ],
        [
         "Data Analyst",
         "66000"
        ],
        [
         "Data Analyst",
         "175000"
        ],
        [
         "Data Scientist",
         "296100"
        ],
        [
         "Data Analyst",
         "123040"
        ],
        [
         "Data Scientist",
         "215300"
        ],
        [
         "Data Scientist",
         "192000"
        ],
        [
         "Data Analyst",
         "104000"
        ],
        [
         "Data Scientist",
         "215625"
        ],
        [
         "Data Scientist",
         "250000"
        ],
        [
         "Data Analyst",
         "116960"
        ],
        [
         "Data Scientist",
         "283000"
        ],
        [
         "Data Analyst",
         "86400"
        ],
        [
         "Data Scientist",
         "159832"
        ],
        [
         "Data Scientist",
         "67723"
        ],
        [
         "Data Analyst",
         "110925"
        ],
        [
         "Data Scientist",
         "152000"
        ],
        [
         "Data Analyst",
         "88000"
        ],
        [
         "Data Analyst",
         "223602"
        ],
        [
         "Data Scientist",
         "88256"
        ],
        [
         "Data Scientist",
         "52533"
        ],
        [
         "Data Analyst",
         "39925"
        ],
        [
         "Data Scientist",
         "80036"
        ],
        [
         "Data Scientist",
         "117000"
        ],
        [
         "Data Scientist",
         "111000"
        ],
        [
         "Data Scientist",
         "179000"
        ],
        [
         "Data Scientist",
         "191000"
        ],
        [
         "Data Scientist",
         "51081"
        ],
        [
         "Data Scientist",
         "51321"
        ],
        [
         "Data Analyst",
         "166000"
        ],
        [
         "Data Analyst",
         "93918"
        ],
        [
         "Data Analyst",
         "126500"
        ],
        [
         "Data Scientist",
         "169374"
        ],
        [
         "Data Analyst",
         "119800"
        ],
        [
         "Data Scientist",
         "280830"
        ],
        [
         "Data Analyst",
         "80800"
        ],
        [
         "Data Scientist",
         "158400"
        ],
        [
         "Data Scientist",
         "201450"
        ],
        [
         "Data Analyst",
         "42026"
        ],
        [
         "Data Analyst",
         "102586"
        ],
        [
         "Data Analyst",
         "79981"
        ],
        [
         "Data Scientist",
         "159000"
        ],
        [
         "Data Scientist",
         "207500"
        ],
        [
         "Data Analyst",
         "125600"
        ],
        [
         "Data Analyst",
         "53000"
        ],
        [
         "Data Analyst",
         "86128"
        ],
        [
         "Data Scientist",
         "198000"
        ],
        [
         "Data Scientist",
         "178500"
        ],
        [
         "Data Analyst",
         "148700"
        ],
        [
         "Data Analyst",
         "128500"
        ],
        [
         "Data Scientist",
         "93400"
        ],
        [
         "Data Analyst",
         "116000"
        ],
        [
         "Data Scientist",
         "196760"
        ],
        [
         "Data Scientist",
         "75648"
        ],
        [
         "Data Analyst",
         "31520"
        ],
        [
         "Data Scientist",
         "185100"
        ],
        [
         "Data Analyst",
         "46759"
        ],
        [
         "Data Scientist",
         "195800"
        ],
        [
         "Data Scientist",
         "305600"
        ],
        [
         "Data Scientist",
         "127500"
        ],
        [
         "Data Scientist",
         "167441"
        ],
        [
         "Data Scientist",
         "136300"
        ],
        [
         "Data Analyst",
         "106800"
        ],
        [
         "Data Scientist",
         "45760"
        ],
        [
         "Data Scientist",
         "172000"
        ],
        [
         "Data Scientist",
         "287500"
        ],
        [
         "Data Analyst",
         "144100"
        ],
        [
         "Data Analyst",
         "51519"
        ],
        [
         "Data Scientist",
         "71000"
        ],
        [
         "Data Scientist",
         "202600"
        ],
        [
         "Data Scientist",
         "238000"
        ],
        [
         "Data Scientist",
         "110500"
        ],
        [
         "Data Scientist",
         "170730"
        ],
        [
         "Data Analyst",
         "46000"
        ],
        [
         "Data Scientist",
         "58000"
        ],
        [
         "Data Scientist",
         "130410"
        ],
        [
         "Data Scientist",
         "168000"
        ],
        [
         "Data Scientist",
         "211000"
        ],
        [
         "Data Analyst",
         "369120"
        ],
        [
         "Data Analyst",
         "98400"
        ],
        [
         "Data Analyst",
         "57920"
        ],
        [
         "Data Scientist",
         "83270"
        ],
        [
         "Data Analyst",
         "121600"
        ],
        [
         "Data Scientist",
         "63040"
        ],
        [
         "Data Scientist",
         "60000"
        ],
        [
         "Data Scientist",
         "57223"
        ],
        [
         "Data Scientist",
         "207345"
        ],
        [
         "Data Scientist",
         "210550"
        ],
        [
         "Data Scientist",
         "124600"
        ],
        [
         "Data Scientist",
         "143000"
        ],
        [
         "Data Analyst",
         "123000"
        ],
        [
         "Data Analyst",
         "109600"
        ],
        [
         "Data Scientist",
         "168400"
        ],
        [
         "Data Analyst",
         "52500"
        ],
        [
         "Data Scientist",
         "220000"
        ],
        [
         "Data Analyst",
         "135000"
        ],
        [
         "Data Analyst",
         "55000"
        ],
        [
         "Data Scientist",
         "126100"
        ],
        [
         "Data Scientist",
         "180300"
        ],
        [
         "Data Analyst",
         "36940"
        ],
        [
         "Data Scientist",
         "212000"
        ],
        [
         "Data Scientist",
         "70000"
        ],
        [
         "Data Scientist",
         "272300"
        ],
        [
         "Data Scientist",
         "95000"
        ],
        [
         "Data Analyst",
         "170550"
        ],
        [
         "Data Scientist",
         "134024"
        ],
        [
         "Data Analyst",
         "20000"
        ],
        [
         "Data Scientist",
         "95550"
        ],
        [
         "Data Scientist",
         "75774"
        ],
        [
         "Data Analyst",
         "91800"
        ],
        [
         "Data Analyst",
         "82200"
        ],
        [
         "Data Scientist",
         "214000"
        ],
        [
         "Data Analyst",
         "53800"
        ],
        [
         "Data Scientist",
         "79976"
        ],
        [
         "Data Analyst",
         "80000"
        ],
        [
         "Data Scientist",
         "167000"
        ],
        [
         "Data Scientist",
         "105000"
        ],
        [
         "Data Analyst",
         "160000"
        ],
        [
         "Data Scientist",
         "295490"
        ],
        [
         "Data Analyst",
         "54000"
        ],
        [
         "Data Scientist",
         "178560"
        ],
        [
         "Data Scientist",
         "89306"
        ],
        [
         "Data Analyst",
         "43096"
        ],
        [
         "Data Analyst",
         "117000"
        ],
        [
         "Data Scientist",
         "43064"
        ],
        [
         "Data Analyst",
         "109900"
        ],
        [
         "Data Scientist",
         "156450"
        ],
        [
         "Data Scientist",
         "197000"
        ],
        [
         "Data Scientist",
         "71259"
        ],
        [
         "Data Scientist",
         "285000"
        ],
        [
         "Data Scientist",
         "39925"
        ],
        [
         "Data Scientist",
         "86000"
        ],
        [
         "Data Analyst",
         "59500"
        ],
        [
         "Data Scientist",
         "174000"
        ],
        [
         "Data Scientist",
         "102200"
        ],
        [
         "Data Scientist",
         "67597"
        ],
        [
         "Data Scientist",
         "131200"
        ],
        [
         "Data Analyst",
         "40000"
        ],
        [
         "Data Scientist",
         "200160"
        ],
        [
         "Data Analyst",
         "86500"
        ],
        [
         "Data Analyst",
         "73824"
        ],
        [
         "Data Analyst",
         "120600"
        ],
        [
         "Data Scientist",
         "186200"
        ],
        [
         "Data Scientist",
         "258000"
        ],
        [
         "Data Scientist",
         "73100"
        ],
        [
         "Data Scientist",
         "115000"
        ],
        [
         "Data Analyst",
         "116150"
        ]
       ],
       "datasetInfos": [],
       "dbfsResultPath": null,
       "isJsonSchema": true,
       "metadata": {},
       "overflow": false,
       "plotOptions": {
        "customPlotOptions": {},
        "displayType": "table",
        "pivotAggregation": null,
        "pivotColumns": null,
        "xColumns": null,
        "yColumns": null
       },
       "removedWidgets": [],
       "schema": [
        {
         "metadata": "{}",
         "name": "job_title",
         "type": "\"string\""
        },
        {
         "metadata": "{}",
         "name": "salary_in_usd",
         "type": "\"string\""
        }
       ],
       "type": "table"
      }
     },
     "output_type": "display_data"
    }
   ],
   "source": [
    "%sql\n",
    "SELECT\n",
    "    job_title,\n",
    "    salary_in_usd\n",
    "FROM jobs_in_data_csv\n",
    "WHERE\n",
    "    job_title IN ('Data Analyst', 'Data Scientist')\n",
    "GROUP BY job_title, salary_in_usd;"
   ]
  },
  {
   "cell_type": "markdown",
   "metadata": {
    "application/vnd.databricks.v1+cell": {
     "cellMetadata": {},
     "inputWidgets": {},
     "nuid": "db6a9efd-4e69-4329-b438-f6159e4a6241",
     "showTitle": false,
     "tableResultSettingsMap": {},
     "title": ""
    }
   },
   "source": [
    "### Conclusão:\n",
    "\n",
    "Com a execução da query final, obtivemos um **dataframe consolidado** com as informações necessárias para os **testes estatísticos**. Esse dataframe contém os cargos de interesse, Analistas e Cientistas de Dados, e seus respectivos salários em dólar, proporcionando uma base estruturada e confiável para avançarmos com análises direcionadas e significativas."
   ]
  }
 ],
 "metadata": {
  "application/vnd.databricks.v1+notebook": {
   "dashboards": [],
   "environmentMetadata": null,
   "language": "python",
   "notebookMetadata": {
    "mostRecentlyExecutedCommandWithImplicitDF": {
     "commandId": 2735477952310625,
     "dataframes": [
      "_sqldf"
     ]
    },
    "pythonIndentUnit": 4
   },
   "notebookName": "Dataframe para Testes Estatísticos - Diferenças Salariais em Análise e Ciência de Dados",
   "widgets": {}
  }
 },
 "nbformat": 4,
 "nbformat_minor": 0
}
