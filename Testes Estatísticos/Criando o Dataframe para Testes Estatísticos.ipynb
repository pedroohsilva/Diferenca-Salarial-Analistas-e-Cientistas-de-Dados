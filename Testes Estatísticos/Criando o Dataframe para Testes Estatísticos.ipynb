{
 "cells": [
  {
   "cell_type": "markdown",
   "metadata": {
    "application/vnd.databricks.v1+cell": {
     "cellMetadata": {},
     "inputWidgets": {},
     "nuid": "475fe5c6-01e3-439d-b0e4-af74712d57bc",
     "showTitle": false,
     "tableResultSettingsMap": {},
     "title": ""
    }
   },
   "source": [
    "### Construindo um Dataframe para Testes Estatísticos: Diferenças Salariais em Análise e Ciência de Dados\n",
    "\n",
    "Para garantir uma análise mais focada e relevante, utilizei o Databricks para criar um notebook dedicado à construção de um dataframe específico. Por meio de consultas **SQL**, esse dataframe reúne informações de cargos como Analistas e Cientistas de Dados e seus respectivos salários em dólar. Essa abordagem facilita a preparação dos dados e direciona as etapas subsequentes para a realização de **testes estatísticos** com maior precisão e eficiência."
   ]
  },
  {
   "cell_type": "markdown",
   "metadata": {
    "application/vnd.databricks.v1+cell": {
     "cellMetadata": {},
     "inputWidgets": {},
     "nuid": "64cc0fd9-da4f-494b-bca6-f4ce580617af",
     "showTitle": false,
     "tableResultSettingsMap": {},
     "title": ""
    }
   },
   "source": [
    "### Visualizando o Conjunto de Dados:\n",
    "\n",
    "Selecionando as 10 primeiras linhas do dataset para uma visualização inicial dos dados."
   ]
  },
  {
   "cell_type": "code",
   "execution_count": 0,
   "metadata": {
    "application/vnd.databricks.v1+cell": {
     "cellMetadata": {
      "byteLimit": 2048000,
      "implicitDf": true,
      "rowLimit": 10000
     },
     "inputWidgets": {},
     "nuid": "a3f0a4f9-7097-48b6-97c5-8a6a14ed995f",
     "showTitle": false,
     "tableResultSettingsMap": {},
     "title": ""
    }
   },
   "outputs": [
    {
     "output_type": "display_data",
     "data": {
      "text/html": [
       "<style scoped>\n",
       "  .table-result-container {\n",
       "    max-height: 300px;\n",
       "    overflow: auto;\n",
       "  }\n",
       "  table, th, td {\n",
       "    border: 1px solid black;\n",
       "    border-collapse: collapse;\n",
       "  }\n",
       "  th, td {\n",
       "    padding: 5px;\n",
       "  }\n",
       "  th {\n",
       "    text-align: left;\n",
       "  }\n",
       "</style><div class='table-result-container'><table class='table-result'><thead style='background-color: white'><tr><th>work_year</th><th>job_title</th><th>job_category</th><th>salary_currency</th><th>salary</th><th>salary_in_usd</th><th>employee_residence</th><th>experience_level</th><th>employment_type</th><th>work_setting</th><th>company_location</th><th>company_size</th></tr></thead><tbody><tr><td>2023</td><td>Data DevOps Engineer</td><td>Data Engineering</td><td>EUR</td><td>88000</td><td>95012</td><td>Germany</td><td>Mid-level</td><td>Full-time</td><td>Hybrid</td><td>Germany</td><td>L</td></tr><tr><td>2023</td><td>Data Architect</td><td>Data Architecture and Modeling</td><td>USD</td><td>186000</td><td>186000</td><td>United States</td><td>Senior</td><td>Full-time</td><td>In-person</td><td>United States</td><td>M</td></tr><tr><td>2023</td><td>Data Architect</td><td>Data Architecture and Modeling</td><td>USD</td><td>81800</td><td>81800</td><td>United States</td><td>Senior</td><td>Full-time</td><td>In-person</td><td>United States</td><td>M</td></tr><tr><td>2023</td><td>Data Scientist</td><td>Data Science and Research</td><td>USD</td><td>212000</td><td>212000</td><td>United States</td><td>Senior</td><td>Full-time</td><td>In-person</td><td>United States</td><td>M</td></tr><tr><td>2023</td><td>Data Scientist</td><td>Data Science and Research</td><td>USD</td><td>93300</td><td>93300</td><td>United States</td><td>Senior</td><td>Full-time</td><td>In-person</td><td>United States</td><td>M</td></tr><tr><td>2023</td><td>Data Scientist</td><td>Data Science and Research</td><td>USD</td><td>130000</td><td>130000</td><td>United States</td><td>Senior</td><td>Full-time</td><td>Remote</td><td>United States</td><td>M</td></tr><tr><td>2023</td><td>Data Scientist</td><td>Data Science and Research</td><td>USD</td><td>100000</td><td>100000</td><td>United States</td><td>Senior</td><td>Full-time</td><td>Remote</td><td>United States</td><td>M</td></tr><tr><td>2023</td><td>Machine Learning Researcher</td><td>Machine Learning and AI</td><td>USD</td><td>224400</td><td>224400</td><td>United States</td><td>Mid-level</td><td>Full-time</td><td>In-person</td><td>United States</td><td>M</td></tr><tr><td>2023</td><td>Machine Learning Researcher</td><td>Machine Learning and AI</td><td>USD</td><td>138700</td><td>138700</td><td>United States</td><td>Mid-level</td><td>Full-time</td><td>In-person</td><td>United States</td><td>M</td></tr><tr><td>2023</td><td>Data Engineer</td><td>Data Engineering</td><td>USD</td><td>210000</td><td>210000</td><td>United States</td><td>Executive</td><td>Full-time</td><td>Remote</td><td>United States</td><td>M</td></tr></tbody></table></div>"
      ]
     },
     "metadata": {
      "application/vnd.databricks.v1+output": {
       "addedWidgets": {},
       "aggData": [],
       "aggError": "",
       "aggOverflow": false,
       "aggSchema": [],
       "aggSeriesLimitReached": false,
       "aggType": "",
       "arguments": {},
       "columnCustomDisplayInfos": {},
       "data": [
        [
         "2023",
         "Data DevOps Engineer",
         "Data Engineering",
         "EUR",
         "88000",
         "95012",
         "Germany",
         "Mid-level",
         "Full-time",
         "Hybrid",
         "Germany",
         "L"
        ],
        [
         "2023",
         "Data Architect",
         "Data Architecture and Modeling",
         "USD",
         "186000",
         "186000",
         "United States",
         "Senior",
         "Full-time",
         "In-person",
         "United States",
         "M"
        ],
        [
         "2023",
         "Data Architect",
         "Data Architecture and Modeling",
         "USD",
         "81800",
         "81800",
         "United States",
         "Senior",
         "Full-time",
         "In-person",
         "United States",
         "M"
        ],
        [
         "2023",
         "Data Scientist",
         "Data Science and Research",
         "USD",
         "212000",
         "212000",
         "United States",
         "Senior",
         "Full-time",
         "In-person",
         "United States",
         "M"
        ],
        [
         "2023",
         "Data Scientist",
         "Data Science and Research",
         "USD",
         "93300",
         "93300",
         "United States",
         "Senior",
         "Full-time",
         "In-person",
         "United States",
         "M"
        ],
        [
         "2023",
         "Data Scientist",
         "Data Science and Research",
         "USD",
         "130000",
         "130000",
         "United States",
         "Senior",
         "Full-time",
         "Remote",
         "United States",
         "M"
        ],
        [
         "2023",
         "Data Scientist",
         "Data Science and Research",
         "USD",
         "100000",
         "100000",
         "United States",
         "Senior",
         "Full-time",
         "Remote",
         "United States",
         "M"
        ],
        [
         "2023",
         "Machine Learning Researcher",
         "Machine Learning and AI",
         "USD",
         "224400",
         "224400",
         "United States",
         "Mid-level",
         "Full-time",
         "In-person",
         "United States",
         "M"
        ],
        [
         "2023",
         "Machine Learning Researcher",
         "Machine Learning and AI",
         "USD",
         "138700",
         "138700",
         "United States",
         "Mid-level",
         "Full-time",
         "In-person",
         "United States",
         "M"
        ],
        [
         "2023",
         "Data Engineer",
         "Data Engineering",
         "USD",
         "210000",
         "210000",
         "United States",
         "Executive",
         "Full-time",
         "Remote",
         "United States",
         "M"
        ]
       ],
       "datasetInfos": [],
       "dbfsResultPath": null,
       "isJsonSchema": true,
       "metadata": {},
       "overflow": false,
       "plotOptions": {
        "customPlotOptions": {},
        "displayType": "table",
        "pivotAggregation": null,
        "pivotColumns": null,
        "xColumns": null,
        "yColumns": null
       },
       "removedWidgets": [],
       "schema": [
        {
         "metadata": "{}",
         "name": "work_year",
         "type": "\"string\""
        },
        {
         "metadata": "{}",
         "name": "job_title",
         "type": "\"string\""
        },
        {
         "metadata": "{}",
         "name": "job_category",
         "type": "\"string\""
        },
        {
         "metadata": "{}",
         "name": "salary_currency",
         "type": "\"string\""
        },
        {
         "metadata": "{}",
         "name": "salary",
         "type": "\"string\""
        },
        {
         "metadata": "{}",
         "name": "salary_in_usd",
         "type": "\"string\""
        },
        {
         "metadata": "{}",
         "name": "employee_residence",
         "type": "\"string\""
        },
        {
         "metadata": "{}",
         "name": "experience_level",
         "type": "\"string\""
        },
        {
         "metadata": "{}",
         "name": "employment_type",
         "type": "\"string\""
        },
        {
         "metadata": "{}",
         "name": "work_setting",
         "type": "\"string\""
        },
        {
         "metadata": "{}",
         "name": "company_location",
         "type": "\"string\""
        },
        {
         "metadata": "{}",
         "name": "company_size",
         "type": "\"string\""
        }
       ],
       "type": "table"
      }
     },
     "output_type": "display_data"
    }
   ],
   "source": [
    "%sql\n",
    "SELECT\n",
    "  *\n",
    "FROM jobs_in_data_csv\n",
    "LIMIT 10;"
   ]
  },
  {
   "cell_type": "markdown",
   "metadata": {
    "application/vnd.databricks.v1+cell": {
     "cellMetadata": {},
     "inputWidgets": {},
     "nuid": "fc26954c-86e9-4101-9552-ad9d0f368be6",
     "showTitle": false,
     "tableResultSettingsMap": {},
     "title": ""
    }
   },
   "source": [
    "### Selecionando Dados para Análise Estatística:\n",
    "\n",
    "Criando um dataframe contendo apenas as colunas de cargos específicos (Analistas e Cientistas de Dados) e seus respectivos salários em dólar, como preparação para os testes estatísticos.\n",
    "\n",
    "\n",
    "#### Pré-visualização do dataframe com 10 linhas:"
   ]
  },
  {
   "cell_type": "code",
   "execution_count": 0,
   "metadata": {
    "application/vnd.databricks.v1+cell": {
     "cellMetadata": {
      "byteLimit": 2048000,
      "implicitDf": true,
      "rowLimit": 10000
     },
     "inputWidgets": {},
     "nuid": "f39359ad-713a-425a-b233-4ddacc3d5565",
     "showTitle": false,
     "tableResultSettingsMap": {},
     "title": ""
    }
   },
   "outputs": [
    {
     "output_type": "display_data",
     "data": {
      "text/html": [
       "<style scoped>\n",
       "  .table-result-container {\n",
       "    max-height: 300px;\n",
       "    overflow: auto;\n",
       "  }\n",
       "  table, th, td {\n",
       "    border: 1px solid black;\n",
       "    border-collapse: collapse;\n",
       "  }\n",
       "  th, td {\n",
       "    padding: 5px;\n",
       "  }\n",
       "  th {\n",
       "    text-align: left;\n",
       "  }\n",
       "</style><div class='table-result-container'><table class='table-result'><thead style='background-color: white'><tr><th>job_title</th><th>salary_in_usd</th></tr></thead><tbody><tr><td>Data Scientist</td><td>130000</td></tr><tr><td>Data Scientist</td><td>93300</td></tr><tr><td>Data Analyst</td><td>95000</td></tr><tr><td>Data Analyst</td><td>75000</td></tr><tr><td>Data Scientist</td><td>300000</td></tr><tr><td>Data Scientist</td><td>234000</td></tr><tr><td>Data Scientist</td><td>100000</td></tr><tr><td>Data Scientist</td><td>36912</td></tr><tr><td>Data Scientist</td><td>212000</td></tr><tr><td>Data Scientist</td><td>43064</td></tr></tbody></table></div>"
      ]
     },
     "metadata": {
      "application/vnd.databricks.v1+output": {
       "addedWidgets": {},
       "aggData": [],
       "aggError": "",
       "aggOverflow": false,
       "aggSchema": [],
       "aggSeriesLimitReached": false,
       "aggType": "",
       "arguments": {},
       "columnCustomDisplayInfos": {},
       "data": [
        [
         "Data Scientist",
         "130000"
        ],
        [
         "Data Scientist",
         "93300"
        ],
        [
         "Data Analyst",
         "95000"
        ],
        [
         "Data Analyst",
         "75000"
        ],
        [
         "Data Scientist",
         "300000"
        ],
        [
         "Data Scientist",
         "234000"
        ],
        [
         "Data Scientist",
         "100000"
        ],
        [
         "Data Scientist",
         "36912"
        ],
        [
         "Data Scientist",
         "212000"
        ],
        [
         "Data Scientist",
         "43064"
        ]
       ],
       "datasetInfos": [],
       "dbfsResultPath": null,
       "isJsonSchema": true,
       "metadata": {},
       "overflow": false,
       "plotOptions": {
        "customPlotOptions": {},
        "displayType": "table",
        "pivotAggregation": null,
        "pivotColumns": null,
        "xColumns": null,
        "yColumns": null
       },
       "removedWidgets": [],
       "schema": [
        {
         "metadata": "{}",
         "name": "job_title",
         "type": "\"string\""
        },
        {
         "metadata": "{}",
         "name": "salary_in_usd",
         "type": "\"string\""
        }
       ],
       "type": "table"
      }
     },
     "output_type": "display_data"
    }
   ],
   "source": [
    "%sql\n",
    "SELECT\n",
    "    job_title,\n",
    "    salary_in_usd\n",
    "FROM jobs_in_data_csv\n",
    "WHERE\n",
    "    job_title IN ('Data Analyst', 'Data Scientist')\n",
    "GROUP BY job_title, salary_in_usd\n",
    "LIMIT 10;"
   ]
  },
  {
   "cell_type": "markdown",
   "metadata": {
    "application/vnd.databricks.v1+cell": {
     "cellMetadata": {},
     "inputWidgets": {},
     "nuid": "db6a9efd-4e69-4329-b438-f6159e4a6241",
     "showTitle": false,
     "tableResultSettingsMap": {},
     "title": ""
    }
   },
   "source": [
    "### Conclusão:\n",
    "\n",
    "Com a execução da query final, obtivemos um **dataframe consolidado** com as informações necessárias para os **testes estatísticos**. Esse dataframe contém os cargos de interesse, Analistas e Cientistas de Dados, e seus respectivos salários em dólar, proporcionando uma base estruturada e confiável para avançarmos com análises direcionadas e significativas."
   ]
  }
 ],
 "metadata": {
  "application/vnd.databricks.v1+notebook": {
   "dashboards": [],
   "environmentMetadata": null,
   "language": "python",
   "notebookMetadata": {
    "mostRecentlyExecutedCommandWithImplicitDF": {
     "commandId": 2252249853237620,
     "dataframes": [
      "_sqldf"
     ]
    },
    "pythonIndentUnit": 4
   },
   "notebookName": "Dataframe para Testes Estatísticos - Diferenças Salariais em Análise e Ciência de Dados",
   "widgets": {}
  }
 },
 "nbformat": 4,
 "nbformat_minor": 0
}
